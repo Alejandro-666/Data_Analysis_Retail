{
  "nbformat": 4,
  "nbformat_minor": 0,
  "metadata": {
    "colab": {
      "provenance": [],
      "collapsed_sections": [],
      "toc_visible": true,
      "authorship_tag": "ABX9TyM+8HPE+nmIRZ2+CaIDOuYI",
      "include_colab_link": true
    },
    "kernelspec": {
      "name": "python3",
      "display_name": "Python 3"
    }
  },
  "cells": [
    {
      "cell_type": "markdown",
      "metadata": {
        "id": "view-in-github",
        "colab_type": "text"
      },
      "source": [
        "<a href=\"https://colab.research.google.com/github/Alejandro-666/Data_Analysis_Retail/blob/main/Proyecto_M%C3%B3dulo_1.ipynb\" target=\"_parent\"><img src=\"https://colab.research.google.com/assets/colab-badge.svg\" alt=\"Open In Colab\"/></a>"
      ]
    },
    {
      "cell_type": "markdown",
      "metadata": {
        "id": "I5595VWAv-XS"
      },
      "source": [
        "#**Proyecto Módulo 1: Análisis de datos de una tienda Retail** \n",
        "---\n",
        "\n",
        "**Estudiante: Sergio Alejandro Alvarado Parada.**\n",
        "\n",
        "\n",
        "En el siguiente proyecto final se analizará la información de ventas recopilada de una tienda retail, con diferentes canales de venta en Estados Unidos entre los enero de 2011 y febrero de 2014."
      ]
    },
    {
      "cell_type": "code",
      "metadata": {
        "id": "OaD7-eXEv8UJ"
      },
      "source": [
        "import numpy as np\n",
        "import pandas as pd\n",
        "import matplotlib  \n",
        "import matplotlib.pyplot as plt\n",
        "import seaborn as sns\n",
        "import statsmodels.api as sm\n",
        "%matplotlib inline"
      ],
      "execution_count": null,
      "outputs": []
    },
    {
      "cell_type": "code",
      "metadata": {
        "id": "fVeV52BFezpD"
      },
      "source": [
        "%matplotlib inline"
      ],
      "execution_count": null,
      "outputs": []
    },
    {
      "cell_type": "code",
      "metadata": {
        "id": "PUmcvgO8UJNU"
      },
      "source": [
        "sns.set_style(\"darkgrid\")"
      ],
      "execution_count": null,
      "outputs": []
    },
    {
      "cell_type": "markdown",
      "metadata": {
        "id": "l0iKs9fLw1jx"
      },
      "source": [
        "##**1. Entendimiento del negocio**\n",
        "---\n",
        "El retail es un modelo de negocio donde se venden al por menor o al detalle una gran cantidad de productos, es un mercado donde hay una gran cantidad de competidores donde algunos de ellos tienen bastante dominantes debido a su gran disposición de capital y su capacidad de mantener precios bajos incurriendo incluso en pérdidas para atraer a más clientes y sacar competidores de este mercado. El retail se caracterisa principalmente por la venta de diferentes producto de varias categorías y subcategorías, lo que lo convierte en un negocio donde generalmente es necesario administrar cada categoría independientemente, sin embargo todas, al final de la operación, contribuyen al crecimiento del establecimiento.\n",
        "\n",
        "\n",
        "En este proyecto se realizará el análisis de la información de una tienda retail, simulando un escenario donde el gerente o dueño de una tienda quiere conocer el estado del negocio y a partir de una serie de respuestas a preguntas hipotéticas generar soluciones ye strategias que permitan el crecimiento del negocio."
      ]
    },
    {
      "cell_type": "markdown",
      "metadata": {
        "id": "0oX5D96a4Anw"
      },
      "source": [
        "####**1.2. Objetivos del proyecto**\n",
        "---\n",
        "El principal objetivo del proyecto es organizar y analizar la información recopilada en el periodo de enero de 2011 y febrero de 2014 con métodos de estadística descriptiva, estadística inferencial y visualizaciones, con el fin de sacar conclusiones que permitan implementar nuevas estrategias de mercado y de esta forma impulsar las ventas de la tienda retail analizada en este proyecto. "
      ]
    },
    {
      "cell_type": "markdown",
      "metadata": {
        "id": "QxzIoOIjyFKm"
      },
      "source": [
        "##**2. Recolección y entendimiento de los datos**\n",
        "---\n",
        "La información utilizada para este proyecto se obtuvo de la página www.kaggle.com, lo que significa que son datos abierto al público en general. El enlace al conjunto de datos se presenta al final del notebook en la sección 6 (Referencias).\n",
        "\n",
        "Dentro de la información contenida se encuentran tres datasets que componen la información total de la tienda retail, estos datasets en formato csv (comma-separated values) son los siguientes:\n",
        "\n",
        "\n",
        "1.   Customer.csv\n",
        "2.   Transactions.csv\n",
        "3.   Retail_customers.csv\n",
        "\n",
        "A continuación se presenta la descripción de la información contenida en cada uno de los dataset."
      ]
    },
    {
      "cell_type": "code",
      "metadata": {
        "id": "0RnjmIuAxEOY"
      },
      "source": [
        "# Importar datasets que componen la información de la tienda retail\n",
        "\n",
        "clientes = pd.read_csv('Customer.csv')\n",
        "transacciones = pd.read_csv('Transactions.csv')\n",
        "dic_categorias = pd.read_csv('Retail_customers.csv')"
      ],
      "execution_count": null,
      "outputs": []
    },
    {
      "cell_type": "markdown",
      "metadata": {
        "id": "sVzdAEtM3WKI"
      },
      "source": [
        "####**2.1. Dataset clientes:**\n",
        "---\n",
        "El dataset clientes contiene 4 columnas con información relevante de cada clientes que ha realizado compran en cualquiera de los canales de distribución. Las vriables de este dataset se presentan a continuación:\n",
        "\n",
        "\n",
        "*   **customer_Id:** Código de identificación del cliente.\n",
        "*   **DOB:** Columna no descrita.\n",
        "*   **Gender:** Género del cliente.\n",
        "*   **city_code:** Código de la ciudad del cliente"
      ]
    },
    {
      "cell_type": "code",
      "metadata": {
        "id": "agpbOjhPxuoU",
        "colab": {
          "base_uri": "https://localhost:8080/"
        },
        "outputId": "2d016ef3-1b31-42a8-dfd2-58f44973bf87"
      },
      "source": [
        "clientes.info()"
      ],
      "execution_count": null,
      "outputs": [
        {
          "output_type": "stream",
          "text": [
            "<class 'pandas.core.frame.DataFrame'>\n",
            "RangeIndex: 5647 entries, 0 to 5646\n",
            "Data columns (total 4 columns):\n",
            " #   Column       Non-Null Count  Dtype  \n",
            "---  ------       --------------  -----  \n",
            " 0   customer_Id  5647 non-null   int64  \n",
            " 1   DOB          5647 non-null   int64  \n",
            " 2   Gender       5645 non-null   object \n",
            " 3   city_code    5645 non-null   float64\n",
            "dtypes: float64(1), int64(2), object(1)\n",
            "memory usage: 176.6+ KB\n"
          ],
          "name": "stdout"
        }
      ]
    },
    {
      "cell_type": "code",
      "metadata": {
        "colab": {
          "base_uri": "https://localhost:8080/",
          "height": 204
        },
        "id": "u7xSxzn8x4RM",
        "outputId": "dda04925-c43a-4d79-8483-9ec9cb8e2093"
      },
      "source": [
        "clientes.head()"
      ],
      "execution_count": null,
      "outputs": [
        {
          "output_type": "execute_result",
          "data": {
            "text/html": [
              "<div>\n",
              "<style scoped>\n",
              "    .dataframe tbody tr th:only-of-type {\n",
              "        vertical-align: middle;\n",
              "    }\n",
              "\n",
              "    .dataframe tbody tr th {\n",
              "        vertical-align: top;\n",
              "    }\n",
              "\n",
              "    .dataframe thead th {\n",
              "        text-align: right;\n",
              "    }\n",
              "</style>\n",
              "<table border=\"1\" class=\"dataframe\">\n",
              "  <thead>\n",
              "    <tr style=\"text-align: right;\">\n",
              "      <th></th>\n",
              "      <th>customer_Id</th>\n",
              "      <th>DOB</th>\n",
              "      <th>Gender</th>\n",
              "      <th>city_code</th>\n",
              "    </tr>\n",
              "  </thead>\n",
              "  <tbody>\n",
              "    <tr>\n",
              "      <th>0</th>\n",
              "      <td>268408</td>\n",
              "      <td>25570</td>\n",
              "      <td>M</td>\n",
              "      <td>4.0</td>\n",
              "    </tr>\n",
              "    <tr>\n",
              "      <th>1</th>\n",
              "      <td>269696</td>\n",
              "      <td>25575</td>\n",
              "      <td>F</td>\n",
              "      <td>8.0</td>\n",
              "    </tr>\n",
              "    <tr>\n",
              "      <th>2</th>\n",
              "      <td>268159</td>\n",
              "      <td>25576</td>\n",
              "      <td>F</td>\n",
              "      <td>8.0</td>\n",
              "    </tr>\n",
              "    <tr>\n",
              "      <th>3</th>\n",
              "      <td>270181</td>\n",
              "      <td>25578</td>\n",
              "      <td>F</td>\n",
              "      <td>2.0</td>\n",
              "    </tr>\n",
              "    <tr>\n",
              "      <th>4</th>\n",
              "      <td>268073</td>\n",
              "      <td>25579</td>\n",
              "      <td>M</td>\n",
              "      <td>1.0</td>\n",
              "    </tr>\n",
              "  </tbody>\n",
              "</table>\n",
              "</div>"
            ],
            "text/plain": [
              "   customer_Id    DOB Gender  city_code\n",
              "0       268408  25570      M        4.0\n",
              "1       269696  25575      F        8.0\n",
              "2       268159  25576      F        8.0\n",
              "3       270181  25578      F        2.0\n",
              "4       268073  25579      M        1.0"
            ]
          },
          "metadata": {
            "tags": []
          },
          "execution_count": 25
        }
      ]
    },
    {
      "cell_type": "markdown",
      "metadata": {
        "id": "ehFKMnl323IW"
      },
      "source": [
        "####**2.2. Dataset transacciones:**\n",
        "---\n",
        "El dataset transacciones contiene 10 columnas con información relacionada a cada una de las trasacciones registradas durante el periodo de enero de 2011 a febrero de 2014. Las columnas de este data set se presentan a continuación:\n",
        "\n",
        "\n",
        "*   **transaction_id:** Código de identificación de la transacción realizada.\n",
        "*   **cust_id:** Código de identificación del cliente que realizó la operación.\n",
        "*   **tran_date:** Fecha en la que se realizo la transacción.\n",
        "*   **prod_subcat_code:** Código de la subcategoría del producto.\n",
        "*   **prod_cat_code:** Código de la categoría del producto.\n",
        "*   **Qty:** Columna no descrita.\n",
        "*   **Rate:** Clumna no descrita.\n",
        "*   **Tax:** Impuesto total de la transacción.\n",
        "*   **total_amt:** Cantidad de dinero involucrado en la transacción.\n",
        "*   **Store_type:** Plataforma en la que se realizó la transacción.\n"
      ]
    },
    {
      "cell_type": "code",
      "metadata": {
        "id": "cpYDsyhYHeta",
        "colab": {
          "base_uri": "https://localhost:8080/"
        },
        "outputId": "c257aa86-d7b5-4db2-eff3-08afb494a645"
      },
      "source": [
        "transacciones.info()"
      ],
      "execution_count": null,
      "outputs": [
        {
          "output_type": "stream",
          "text": [
            "<class 'pandas.core.frame.DataFrame'>\n",
            "RangeIndex: 23053 entries, 0 to 23052\n",
            "Data columns (total 10 columns):\n",
            " #   Column            Non-Null Count  Dtype  \n",
            "---  ------            --------------  -----  \n",
            " 0   transaction_id    23053 non-null  int64  \n",
            " 1   cust_id           23053 non-null  int64  \n",
            " 2   tran_date         23053 non-null  object \n",
            " 3   prod_subcat_code  23053 non-null  int64  \n",
            " 4   prod_cat_code     23053 non-null  int64  \n",
            " 5   Qty               23053 non-null  int64  \n",
            " 6   Rate              23053 non-null  int64  \n",
            " 7   Tax               23053 non-null  float64\n",
            " 8   total_amt         23053 non-null  float64\n",
            " 9   Store_type        23053 non-null  object \n",
            "dtypes: float64(2), int64(6), object(2)\n",
            "memory usage: 1.8+ MB\n"
          ],
          "name": "stdout"
        }
      ]
    },
    {
      "cell_type": "code",
      "metadata": {
        "colab": {
          "base_uri": "https://localhost:8080/",
          "height": 204
        },
        "id": "uUI97EJwx7NI",
        "outputId": "48cf9c82-1465-4f75-e603-84a4500f5af9"
      },
      "source": [
        "transacciones.head()"
      ],
      "execution_count": null,
      "outputs": [
        {
          "output_type": "execute_result",
          "data": {
            "text/html": [
              "<div>\n",
              "<style scoped>\n",
              "    .dataframe tbody tr th:only-of-type {\n",
              "        vertical-align: middle;\n",
              "    }\n",
              "\n",
              "    .dataframe tbody tr th {\n",
              "        vertical-align: top;\n",
              "    }\n",
              "\n",
              "    .dataframe thead th {\n",
              "        text-align: right;\n",
              "    }\n",
              "</style>\n",
              "<table border=\"1\" class=\"dataframe\">\n",
              "  <thead>\n",
              "    <tr style=\"text-align: right;\">\n",
              "      <th></th>\n",
              "      <th>transaction_id</th>\n",
              "      <th>cust_id</th>\n",
              "      <th>tran_date</th>\n",
              "      <th>prod_subcat_code</th>\n",
              "      <th>prod_cat_code</th>\n",
              "      <th>Qty</th>\n",
              "      <th>Rate</th>\n",
              "      <th>Tax</th>\n",
              "      <th>total_amt</th>\n",
              "      <th>Store_type</th>\n",
              "    </tr>\n",
              "  </thead>\n",
              "  <tbody>\n",
              "    <tr>\n",
              "      <th>0</th>\n",
              "      <td>80712190438</td>\n",
              "      <td>270351</td>\n",
              "      <td>28-02-2014</td>\n",
              "      <td>1</td>\n",
              "      <td>1</td>\n",
              "      <td>-5</td>\n",
              "      <td>-772</td>\n",
              "      <td>405.300</td>\n",
              "      <td>-4265.300</td>\n",
              "      <td>e-Shop</td>\n",
              "    </tr>\n",
              "    <tr>\n",
              "      <th>1</th>\n",
              "      <td>29258453508</td>\n",
              "      <td>270384</td>\n",
              "      <td>27-02-2014</td>\n",
              "      <td>5</td>\n",
              "      <td>3</td>\n",
              "      <td>-5</td>\n",
              "      <td>-1497</td>\n",
              "      <td>785.925</td>\n",
              "      <td>-8270.925</td>\n",
              "      <td>e-Shop</td>\n",
              "    </tr>\n",
              "    <tr>\n",
              "      <th>2</th>\n",
              "      <td>51750724947</td>\n",
              "      <td>273420</td>\n",
              "      <td>24-02-2014</td>\n",
              "      <td>6</td>\n",
              "      <td>5</td>\n",
              "      <td>-2</td>\n",
              "      <td>-791</td>\n",
              "      <td>166.110</td>\n",
              "      <td>-1748.110</td>\n",
              "      <td>TeleShop</td>\n",
              "    </tr>\n",
              "    <tr>\n",
              "      <th>3</th>\n",
              "      <td>93274880719</td>\n",
              "      <td>271509</td>\n",
              "      <td>24-02-2014</td>\n",
              "      <td>11</td>\n",
              "      <td>6</td>\n",
              "      <td>-3</td>\n",
              "      <td>-1363</td>\n",
              "      <td>429.345</td>\n",
              "      <td>-4518.345</td>\n",
              "      <td>e-Shop</td>\n",
              "    </tr>\n",
              "    <tr>\n",
              "      <th>4</th>\n",
              "      <td>51750724947</td>\n",
              "      <td>273420</td>\n",
              "      <td>23-02-2014</td>\n",
              "      <td>6</td>\n",
              "      <td>5</td>\n",
              "      <td>-2</td>\n",
              "      <td>-791</td>\n",
              "      <td>166.110</td>\n",
              "      <td>-1748.110</td>\n",
              "      <td>TeleShop</td>\n",
              "    </tr>\n",
              "  </tbody>\n",
              "</table>\n",
              "</div>"
            ],
            "text/plain": [
              "   transaction_id  cust_id   tran_date  ...      Tax  total_amt  Store_type\n",
              "0     80712190438   270351  28-02-2014  ...  405.300  -4265.300      e-Shop\n",
              "1     29258453508   270384  27-02-2014  ...  785.925  -8270.925      e-Shop\n",
              "2     51750724947   273420  24-02-2014  ...  166.110  -1748.110    TeleShop\n",
              "3     93274880719   271509  24-02-2014  ...  429.345  -4518.345      e-Shop\n",
              "4     51750724947   273420  23-02-2014  ...  166.110  -1748.110    TeleShop\n",
              "\n",
              "[5 rows x 10 columns]"
            ]
          },
          "metadata": {
            "tags": []
          },
          "execution_count": 27
        }
      ]
    },
    {
      "cell_type": "markdown",
      "metadata": {
        "id": "chfSGTY89qPL"
      },
      "source": [
        "####**2.3. Dataset dic_categorias:**\n",
        "---\n",
        "El dataset categorías contiene 4 columnas con información relacionada con la definición de las categorías de los productos y sus respectivas subcategorías.\n",
        "\n",
        "\n",
        "\n",
        "*   **prod_cat_code:** Código de la categoría del producto.\n",
        "*   **prod_cat:** Definición de la categoría del producto.\n",
        "*   **prod_sub_cat_code:** Código de la subcategoria del producto.\n",
        "*   **prod_sub_cat:** Definición de la subcategoría del producto.\n",
        "\n",
        "\n",
        "Las categorías de los productos con sus respectivas sucategorías se presentan a continuación:\n",
        "\n",
        "\n",
        "\n",
        "1.   Categoría: Clothing / Subcategorías: Men, Women, Kids. \n",
        "2.   Categoría: Footwear / Subcategorías: Men, Women, Kids. \n",
        "3.   Categoría: Electronics / Subcategorías: Mobiles, Computers, Personal Appliances, Cameras, Audio and video.\n",
        "4.   Categoría: Bags / Subcategorías: Men, Women.\n",
        "5.   Categoría: Books / Subcategorías: Fiction, Academic, Non-Fiction, Children, Comics, DIY.\n",
        "6.   Categoría: Home and Kitchen / Subcategorías: Furnishing, Kitchen, Bath, Tools\n",
        "\n",
        "\n",
        "\n"
      ]
    },
    {
      "cell_type": "code",
      "metadata": {
        "id": "B5pKnT4LJYuK",
        "colab": {
          "base_uri": "https://localhost:8080/"
        },
        "outputId": "ca07bcc2-404e-48ac-a133-101aa0a1f0e2"
      },
      "source": [
        "dic_categorias.info()"
      ],
      "execution_count": null,
      "outputs": [
        {
          "output_type": "stream",
          "text": [
            "<class 'pandas.core.frame.DataFrame'>\n",
            "RangeIndex: 23 entries, 0 to 22\n",
            "Data columns (total 4 columns):\n",
            " #   Column             Non-Null Count  Dtype \n",
            "---  ------             --------------  ----- \n",
            " 0   prod_cat_code      23 non-null     int64 \n",
            " 1   prod_cat           23 non-null     object\n",
            " 2   prod_sub_cat_code  23 non-null     int64 \n",
            " 3   prod_subcat        23 non-null     object\n",
            "dtypes: int64(2), object(2)\n",
            "memory usage: 864.0+ bytes\n"
          ],
          "name": "stdout"
        }
      ]
    },
    {
      "cell_type": "code",
      "metadata": {
        "colab": {
          "base_uri": "https://localhost:8080/",
          "height": 204
        },
        "id": "1_nKHI2yx_XK",
        "outputId": "d848fcca-8028-4383-af8c-105f51837bbd"
      },
      "source": [
        "dic_categorias.head()"
      ],
      "execution_count": null,
      "outputs": [
        {
          "output_type": "execute_result",
          "data": {
            "text/html": [
              "<div>\n",
              "<style scoped>\n",
              "    .dataframe tbody tr th:only-of-type {\n",
              "        vertical-align: middle;\n",
              "    }\n",
              "\n",
              "    .dataframe tbody tr th {\n",
              "        vertical-align: top;\n",
              "    }\n",
              "\n",
              "    .dataframe thead th {\n",
              "        text-align: right;\n",
              "    }\n",
              "</style>\n",
              "<table border=\"1\" class=\"dataframe\">\n",
              "  <thead>\n",
              "    <tr style=\"text-align: right;\">\n",
              "      <th></th>\n",
              "      <th>prod_cat_code</th>\n",
              "      <th>prod_cat</th>\n",
              "      <th>prod_sub_cat_code</th>\n",
              "      <th>prod_subcat</th>\n",
              "    </tr>\n",
              "  </thead>\n",
              "  <tbody>\n",
              "    <tr>\n",
              "      <th>0</th>\n",
              "      <td>1</td>\n",
              "      <td>Clothing</td>\n",
              "      <td>4</td>\n",
              "      <td>Mens</td>\n",
              "    </tr>\n",
              "    <tr>\n",
              "      <th>1</th>\n",
              "      <td>1</td>\n",
              "      <td>Clothing</td>\n",
              "      <td>1</td>\n",
              "      <td>Women</td>\n",
              "    </tr>\n",
              "    <tr>\n",
              "      <th>2</th>\n",
              "      <td>1</td>\n",
              "      <td>Clothing</td>\n",
              "      <td>3</td>\n",
              "      <td>Kids</td>\n",
              "    </tr>\n",
              "    <tr>\n",
              "      <th>3</th>\n",
              "      <td>2</td>\n",
              "      <td>Footwear</td>\n",
              "      <td>1</td>\n",
              "      <td>Mens</td>\n",
              "    </tr>\n",
              "    <tr>\n",
              "      <th>4</th>\n",
              "      <td>2</td>\n",
              "      <td>Footwear</td>\n",
              "      <td>3</td>\n",
              "      <td>Women</td>\n",
              "    </tr>\n",
              "  </tbody>\n",
              "</table>\n",
              "</div>"
            ],
            "text/plain": [
              "   prod_cat_code  prod_cat  prod_sub_cat_code prod_subcat\n",
              "0              1  Clothing                  4        Mens\n",
              "1              1  Clothing                  1       Women\n",
              "2              1  Clothing                  3        Kids\n",
              "3              2  Footwear                  1        Mens\n",
              "4              2  Footwear                  3       Women"
            ]
          },
          "metadata": {
            "tags": []
          },
          "execution_count": 29
        }
      ]
    },
    {
      "cell_type": "markdown",
      "metadata": {
        "id": "TgQpH9_zbVME"
      },
      "source": [
        "**Nota:** Lamentablemente dentro de la información suministrada en el enlace que contiene la informción no se da una descripción sobre las variables DOB (en de dataset clientes), Qty y Rate (en el dataset transacciones). Así que para efectos académicos, no se tendrá en cuenta las columnas Qty y Rate del dataset transacciones y la columna DOB del dataset clientes se modificará más adelante."
      ]
    },
    {
      "cell_type": "markdown",
      "metadata": {
        "id": "rtzoptD-Hs1b"
      },
      "source": [
        "##**3. Preparación de los datos**: \n",
        "---\n",
        "Combinar la información de estos dos datasets permitirá tener una visión general más completa y facilitará enormemente trabajar y manipular esta información. Para esto al dataset \"transacciones\" se le agregará el contenido del dataset \"clientes\" mediante las columnas \"cust_id\" y \"customer_Id\" respectivamente. Para poder realizar la unión, las columnas deben tener el mismo nombre:"
      ]
    },
    {
      "cell_type": "code",
      "metadata": {
        "id": "nDv2S5fUIDCQ",
        "colab": {
          "base_uri": "https://localhost:8080/"
        },
        "outputId": "cbf0421f-610d-44a1-da4a-50c6b8aa9c66"
      },
      "source": [
        "# Cambio de nombre de la columna \"customer_Id\" por \"cust_id\" en el dataset clientes\n",
        "\n",
        "clientes.rename({\n",
        "    'DOB': 'Age',\n",
        "    'customer_Id': 'cust_id'}, \n",
        "    axis=1,  inplace=True)\n",
        "\n",
        "clientes.info()"
      ],
      "execution_count": null,
      "outputs": [
        {
          "output_type": "stream",
          "text": [
            "<class 'pandas.core.frame.DataFrame'>\n",
            "RangeIndex: 5647 entries, 0 to 5646\n",
            "Data columns (total 4 columns):\n",
            " #   Column     Non-Null Count  Dtype  \n",
            "---  ------     --------------  -----  \n",
            " 0   cust_id    5647 non-null   int64  \n",
            " 1   Age        5647 non-null   int64  \n",
            " 2   Gender     5645 non-null   object \n",
            " 3   city_code  5645 non-null   float64\n",
            "dtypes: float64(1), int64(2), object(1)\n",
            "memory usage: 176.6+ KB\n"
          ],
          "name": "stdout"
        }
      ]
    },
    {
      "cell_type": "markdown",
      "metadata": {
        "id": "9uA4ZN_wLt2T"
      },
      "source": [
        "Dentro del dataset \"clientes\" se encuentra una columna llamada DOB, de la cual no se tiene descripción y no se sabe exactamente qué representa, así que para efectos del proyecto, se reemplazarán los datos edades aleatorias entre 15 y 80 años. Por otro lado, se quiere conocer el significado de la columna \"prod_cat_code\" (product category code), por lo que se agregará igualmente la columna de interés (\"prod_cat\") del dataset dic_categorias."
      ]
    },
    {
      "cell_type": "code",
      "metadata": {
        "id": "LzZgGh4OLl2h"
      },
      "source": [
        "# Reemplazo del nombres de la columna \"DOB\" por \"Age\" y \"customer_Id\" por \"cust_id\"\n",
        "\n",
        "clientes.rename({\n",
        "    'DOB': 'Age',\n",
        "    'customer_Id': 'cust_id'}, axis=1,  inplace=True)\n",
        "clientes['Age'] = np.random.randint(15, 80, clientes.shape[0], dtype=int)"
      ],
      "execution_count": null,
      "outputs": []
    },
    {
      "cell_type": "code",
      "metadata": {
        "id": "wnxpAc_F08dW"
      },
      "source": [
        "# Unión de los datasets \"transacciones\" y \"clientes\" \n",
        "\n",
        "transacciones = transacciones.merge(clientes, on='cust_id', how='left')"
      ],
      "execution_count": null,
      "outputs": []
    },
    {
      "cell_type": "markdown",
      "metadata": {
        "id": "cjlRQqA1Cgxv"
      },
      "source": [
        "Igualmente, al información del dataset dic_categorías se unificará con el dataset transacciones. Para que este proceso pueda llevarse a cabo, es necesario que las columnas sobre las cuales se realizará el proceso merge deben tener el mismo nombre."
      ]
    },
    {
      "cell_type": "code",
      "metadata": {
        "id": "60-vQFuZ0_Dj"
      },
      "source": [
        "# Reemplazo de la columna \"prod_sub_cat_code\" por \"prod_subcat_code\" para realizar la operación merge\n",
        "\n",
        "dic_categorias.rename({\n",
        "    'prod_sub_cat_code': 'prod_subcat_code'},\n",
        "    axis=1,\n",
        "    inplace=True)"
      ],
      "execution_count": null,
      "outputs": []
    },
    {
      "cell_type": "code",
      "metadata": {
        "colab": {
          "base_uri": "https://localhost:8080/"
        },
        "id": "EPTBjXGv1A_G",
        "outputId": "ff577458-9d34-442c-b571-78e69202cfb4"
      },
      "source": [
        "# unión de los datasets \"transacciones\" y \"dic_categorias\"\n",
        "\n",
        "transacciones = transacciones.merge(dic_categorias,\n",
        "                                    on=[\"prod_cat_code\",\"prod_subcat_code\"], \n",
        "                                    how=\"left\")\n",
        "\n",
        "transacciones.info()"
      ],
      "execution_count": null,
      "outputs": [
        {
          "output_type": "stream",
          "text": [
            "<class 'pandas.core.frame.DataFrame'>\n",
            "Int64Index: 23053 entries, 0 to 23052\n",
            "Data columns (total 15 columns):\n",
            " #   Column            Non-Null Count  Dtype  \n",
            "---  ------            --------------  -----  \n",
            " 0   transaction_id    23053 non-null  int64  \n",
            " 1   cust_id           23053 non-null  int64  \n",
            " 2   tran_date         23053 non-null  object \n",
            " 3   prod_subcat_code  23053 non-null  int64  \n",
            " 4   prod_cat_code     23053 non-null  int64  \n",
            " 5   Qty               23053 non-null  int64  \n",
            " 6   Rate              23053 non-null  int64  \n",
            " 7   Tax               23053 non-null  float64\n",
            " 8   total_amt         23053 non-null  float64\n",
            " 9   Store_type        23053 non-null  object \n",
            " 10  Age               23053 non-null  int64  \n",
            " 11  Gender            23044 non-null  object \n",
            " 12  city_code         23045 non-null  float64\n",
            " 13  prod_cat          23053 non-null  object \n",
            " 14  prod_subcat       23053 non-null  object \n",
            "dtypes: float64(3), int64(7), object(5)\n",
            "memory usage: 2.8+ MB\n"
          ],
          "name": "stdout"
        }
      ]
    },
    {
      "cell_type": "markdown",
      "metadata": {
        "id": "97UsDERlNMEI"
      },
      "source": [
        "El proceso anterior se evidencia que la cantidad de registros en el dataset \"transacciones\" sigue siendo el mismo. Posterior a la operación Merge se visualizan un dos columnas con registros NaN (Not a Number), 9 NaN en la columna \"Gender\" y 8 NaN en la columna \"city_code\". Si se eliminan los registros con valores NaN, se estarían eliminando 17 registros como máximo (suponiendo que ningún registro tiene NaN en las dos columnas en cuestión), y estos registros eliminados representan el 0,074% de total de los datos. Así que se procede a eliminar dichos registros ya que su eliminación no implicará cambios significativos en el proceso de análisis. "
      ]
    },
    {
      "cell_type": "code",
      "metadata": {
        "id": "cBnwEcd0RM2x",
        "colab": {
          "base_uri": "https://localhost:8080/"
        },
        "outputId": "86c225c4-cc8b-4b7f-ee87-3fe9bed78672"
      },
      "source": [
        "# Eliminación de registros con valores NaN\n",
        "\n",
        "transacciones.drop(transacciones[transacciones['Gender'].isna()].index, \n",
        "                   inplace=True)\n",
        "\n",
        "transacciones.drop(transacciones[transacciones['city_code'].isna()].index, \n",
        "                   inplace=True)\n",
        "\n",
        "transacciones.info()"
      ],
      "execution_count": null,
      "outputs": [
        {
          "output_type": "stream",
          "text": [
            "<class 'pandas.core.frame.DataFrame'>\n",
            "Int64Index: 23036 entries, 0 to 23052\n",
            "Data columns (total 15 columns):\n",
            " #   Column            Non-Null Count  Dtype  \n",
            "---  ------            --------------  -----  \n",
            " 0   transaction_id    23036 non-null  int64  \n",
            " 1   cust_id           23036 non-null  int64  \n",
            " 2   tran_date         23036 non-null  object \n",
            " 3   prod_subcat_code  23036 non-null  int64  \n",
            " 4   prod_cat_code     23036 non-null  int64  \n",
            " 5   Qty               23036 non-null  int64  \n",
            " 6   Rate              23036 non-null  int64  \n",
            " 7   Tax               23036 non-null  float64\n",
            " 8   total_amt         23036 non-null  float64\n",
            " 9   Store_type        23036 non-null  object \n",
            " 10  Age               23036 non-null  int64  \n",
            " 11  Gender            23036 non-null  object \n",
            " 12  city_code         23036 non-null  float64\n",
            " 13  prod_cat          23036 non-null  object \n",
            " 14  prod_subcat       23036 non-null  object \n",
            "dtypes: float64(3), int64(7), object(5)\n",
            "memory usage: 2.8+ MB\n"
          ],
          "name": "stdout"
        }
      ]
    },
    {
      "cell_type": "markdown",
      "metadata": {
        "id": "WuEdgcs0cvgM"
      },
      "source": [
        "Una vez realizada la compilación de los dataset, se procede a realizar unas visualizaciones sencillas sobre algunos datos para poder identificar datos atípicos\n",
        "\n"
      ]
    },
    {
      "cell_type": "code",
      "metadata": {
        "id": "PL_XtW_dDFRD"
      },
      "source": [
        "transacciones.to_csv('Transacciones_m1.csv', index=False)"
      ],
      "execution_count": null,
      "outputs": []
    },
    {
      "cell_type": "code",
      "metadata": {
        "colab": {
          "base_uri": "https://localhost:8080/",
          "height": 312
        },
        "id": "wzpFjjtRB9rA",
        "outputId": "3f81c86b-dd16-4135-de68-300742a44c48"
      },
      "source": [
        "graf_num_transacciones = sns.histplot(transacciones['total_amt'],\n",
        "                                      color='green', \n",
        "                        kde=True)\n",
        "graf_num_transacciones.set(xlabel='Valor Transacción ($)',\n",
        "             ylabel='Cantidad de transacciones',\n",
        "             title='Distribución de Ingresos')\n",
        "graf_num_transacciones"
      ],
      "execution_count": null,
      "outputs": [
        {
          "output_type": "execute_result",
          "data": {
            "text/plain": [
              "<matplotlib.axes._subplots.AxesSubplot at 0x7f866a6da1d0>"
            ]
          },
          "metadata": {
            "tags": []
          },
          "execution_count": 85
        },
        {
          "output_type": "display_data",
          "data": {
            "image/png": "[encoded data removed]",
            "text/plain": [
              "<Figure size 432x288 with 1 Axes>"
            ]
          },
          "metadata": {
            "tags": [],
            "needs_background": "light"
          }
        }
      ]
    },
    {
      "cell_type": "markdown",
      "metadata": {
        "id": "Aly9h9rLFM_c"
      },
      "source": [
        "En la gráfica anterior se puede ver los valores más frecuentes de ventas en todas las categorías ronda los 2000 dólares."
      ]
    },
    {
      "cell_type": "markdown",
      "metadata": {
        "id": "D4fgCZv_Ae2_"
      },
      "source": [
        "Para revisar si hay datos atípicos o outliers en la variable Tax, se puede realizar de manera visual graficando Tax vs total_amt. Esta gráfica debería ser una línea recta, si una dupla de valores está por fuera de valores, puede interpretarse como un outlier."
      ]
    },
    {
      "cell_type": "code",
      "metadata": {
        "colab": {
          "base_uri": "https://localhost:8080/",
          "height": 312
        },
        "id": "Y7UQwGanCZjd",
        "outputId": "b33f4ce0-11bb-495d-c15a-cad9310774d3"
      },
      "source": [
        "tax_vs_total_amt = sns.scatterplot(data=transacciones,\n",
        "                                   x='total_amt',\n",
        "                                   y='Tax',\n",
        "                                   color='orange')\n",
        "tax_vs_total_amt.set(xlabel='Cantidad total ($)', \n",
        "                     ylabel='Impuesto ($)', \n",
        "                     title='Impuesto vs Cantidad Compra')\n",
        "tax_vs_total_amt"
      ],
      "execution_count": null,
      "outputs": [
        {
          "output_type": "execute_result",
          "data": {
            "text/plain": [
              "<matplotlib.axes._subplots.AxesSubplot at 0x7f866ad4e610>"
            ]
          },
          "metadata": {
            "tags": []
          },
          "execution_count": 71
        },
        {
          "output_type": "display_data",
          "data": {
            "image/png": "[encoded data removed]",
            "text/plain": [
              "<Figure size 432x288 with 1 Axes>"
            ]
          },
          "metadata": {
            "tags": []
          }
        }
      ]
    },
    {
      "cell_type": "markdown",
      "metadata": {
        "id": "Pl_2bwyTFACn"
      },
      "source": [
        "En la gráfica anterior no se ve ningún dato atípico, no hay necesidad de eliminar o corregir datos en estas columnas.\n",
        "\n"
      ]
    },
    {
      "cell_type": "markdown",
      "metadata": {
        "id": "aaEg5m8nC7MC"
      },
      "source": [
        "##**4. Análisis de los datos**: \n",
        "---\n",
        "Teniendo en cuenta que a partir de la información selecionada para este proyecto se pueden realizar una gran cantidad de análisis, se ha hecho el supuesto de **¿Cuáles podrían ser algunas de las muchas preguntas que se podría hacer el gerente (o dueño) de la tienda retail a partir de esta información?** Se seleccionaron algunas de estas preguntas y a partir de análisis de estadistica descriptiva, inferencial y modelado estadístico se pretenden responder. \n",
        "\n",
        "\n",
        "Las preguntas seleccionadas son las siguientes:\n",
        "\n",
        "\n",
        "1.   ¿Cuál es la probabilidad (por edades) de que un cliente sea hombre o mujer?\n",
        "2.   ¿Cuál es el mes que en promedio genera una mayor cantidad de ventas?\n",
        "3.   ¿Cuál de los medios de distribución ha generado más ingresos en promedio por categorías?\n",
        "4.   ¿Cuál es la proporción de hombres que compran elementos de hogar y cocina?\n",
        "5.   ¿Ha variado la venta de computadores del años 2011 al año 2013?\n",
        "6.   ¿Hay alguna correlación entre las ventas de artículos de tecnología (audio y video) con artículos de mobiliario?\n",
        "7.   ¿Cuál es la ciudad en la que en promedio se realizan menos ventas a través de Flagship store? y ¿Esa diferencia es significativamente menor que el promedio de las demás ciudades?\n",
        "\n"
      ]
    },
    {
      "cell_type": "markdown",
      "metadata": {
        "id": "WQS4Y2riGIR2"
      },
      "source": [
        "####**4.1. ¿Cuál es la probabilidad (por edades) de que un cliente sea hombres o mujeres?**\n",
        "---\n",
        "Para conocer la probabilidad de que un cliente sea hombre o mujer se puede realizar la gráfica de densidad de probabilidad tanto para hombres como para mujeres e identificar a partir de ellas la respuesta buscada."
      ]
    },
    {
      "cell_type": "code",
      "metadata": {
        "colab": {
          "base_uri": "https://localhost:8080/",
          "height": 402
        },
        "id": "Qi7NI_XEDqj3",
        "outputId": "5508a2c0-653e-45d0-8c3e-e3c47031d62c"
      },
      "source": [
        "age_male_female = sns.displot(data=transacciones, \n",
        "                          x=\"Age\", kind=\"kde\", \n",
        "                          hue = 'Gender');\n",
        "age_male_female.set(xlabel='Edad (años)',\n",
        "                    ylabel='Probabilidad',\n",
        "                    title='Función de densidad Hombres y Mujeres')"
      ],
      "execution_count": null,
      "outputs": [
        {
          "output_type": "execute_result",
          "data": {
            "text/plain": [
              "<seaborn.axisgrid.FacetGrid at 0x7f8675e981d0>"
            ]
          },
          "metadata": {
            "tags": []
          },
          "execution_count": 43
        },
        {
          "output_type": "display_data",
          "data": {
            "image/png": "[encoded data removed]",
            "text/plain": [
              "<Figure size 404.875x360 with 1 Axes>"
            ]
          },
          "metadata": {
            "tags": []
          }
        }
      ]
    },
    {
      "cell_type": "markdown",
      "metadata": {
        "id": "W_i3b272GcEc"
      },
      "source": [
        "A partir de la gráfica anterior se puede ver que ambas funciones de densidad son bastante uniformes. No se visualiza una edad que se repita más de forma relevante. Sin embargo sí se puede ver que en el rango de edades entre 20 y 40 años y entre 45 y 70 años, la probabilidad de que un comprador sea hombre es ligeramente mayor."
      ]
    },
    {
      "cell_type": "markdown",
      "metadata": {
        "id": "TJfa4kOwDv7K"
      },
      "source": [
        "####**4.2. ¿Cuál es el mes que en promedio genera una mayor cantidad de ventas?**\n",
        "---\n",
        "\n",
        "Para reponder esta pregunta se realizará una tabla dinámica en la cual las filas serán los años del periodo de registros y las columnas serán los meses del año. Las celdas de la tabla será el promedio de ventas registrado en el respectivo mes (columna) y respectivo año (columna)."
      ]
    },
    {
      "cell_type": "code",
      "metadata": {
        "id": "a8pc__IXD5sA"
      },
      "source": [
        "# Se creará un DataFrame con la información necesaria: La columna \"trans_date\" y \"total_amt\"\n",
        "\n",
        "auxiliar = transacciones[['tran_date', 'total_amt']] #DF creado para evitar advertecia\n",
        "\n",
        "prom_mes_mas_ventas = auxiliar.copy() "
      ],
      "execution_count": null,
      "outputs": []
    },
    {
      "cell_type": "code",
      "metadata": {
        "id": "z4LcQb9-KzfN"
      },
      "source": [
        "# A prom_mes_mas_ventas se le crea una columna \"Date\" donde los string de la columna \"trans_date\" se vuelven\n",
        "# objetos de la clase 'pandas._libs.tslibs.timestamps.Timestamp'\n",
        "\n",
        "prom_mes_mas_ventas['Date'] = pd.to_datetime(prom_mes_mas_ventas['tran_date'], dayfirst=True)"
      ],
      "execution_count": null,
      "outputs": []
    },
    {
      "cell_type": "code",
      "metadata": {
        "id": "ybPhVpOXK2f3"
      },
      "source": [
        "# La columna \"Date\" creada se dividirá en 3 columnas: Year, Mounth y Day\n",
        "\n",
        "prom_mes_mas_ventas['Year'] = prom_mes_mas_ventas['Date'].apply(lambda x: x.year)\n",
        "prom_mes_mas_ventas['Month'] = prom_mes_mas_ventas['Date'].apply(lambda x: x.month)\n",
        "prom_mes_mas_ventas['Day'] = prom_mes_mas_ventas['Date'].apply(lambda x: x.day)"
      ],
      "execution_count": null,
      "outputs": []
    },
    {
      "cell_type": "markdown",
      "metadata": {
        "id": "sVLWyHZqIe0b"
      },
      "source": [
        "Para considerar únicamente años completos, no se tendrán en cuenta los registros de transacciones realizados en el año 2014."
      ]
    },
    {
      "cell_type": "code",
      "metadata": {
        "id": "AyaMOCb7kvus"
      },
      "source": [
        "# Eliminación de la columna 'tran_date' y eliminación de datos del año 2014\n",
        "\n",
        "del prom_mes_mas_ventas['tran_date']\n",
        "\n",
        "prom_mes_mas_ventas.drop(prom_mes_mas_ventas[prom_mes_mas_ventas['Year'] == 2014].index, inplace=True)"
      ],
      "execution_count": null,
      "outputs": []
    },
    {
      "cell_type": "code",
      "metadata": {
        "colab": {
          "base_uri": "https://localhost:8080/",
          "height": 419
        },
        "id": "qzaHvPhuk4Bz",
        "outputId": "fb9ccfe0-b6a4-43c5-91c9-174f8f53b88c"
      },
      "source": [
        "prom_mes_mas_ventas"
      ],
      "execution_count": null,
      "outputs": [
        {
          "output_type": "execute_result",
          "data": {
            "text/html": [
              "<div>\n",
              "<style scoped>\n",
              "    .dataframe tbody tr th:only-of-type {\n",
              "        vertical-align: middle;\n",
              "    }\n",
              "\n",
              "    .dataframe tbody tr th {\n",
              "        vertical-align: top;\n",
              "    }\n",
              "\n",
              "    .dataframe thead th {\n",
              "        text-align: right;\n",
              "    }\n",
              "</style>\n",
              "<table border=\"1\" class=\"dataframe\">\n",
              "  <thead>\n",
              "    <tr style=\"text-align: right;\">\n",
              "      <th></th>\n",
              "      <th>total_amt</th>\n",
              "      <th>Date</th>\n",
              "      <th>Year</th>\n",
              "      <th>Month</th>\n",
              "      <th>Day</th>\n",
              "    </tr>\n",
              "  </thead>\n",
              "  <tbody>\n",
              "    <tr>\n",
              "      <th>1065</th>\n",
              "      <td>4375.800</td>\n",
              "      <td>2013-12-31</td>\n",
              "      <td>2013</td>\n",
              "      <td>12</td>\n",
              "      <td>31</td>\n",
              "    </tr>\n",
              "    <tr>\n",
              "      <th>1066</th>\n",
              "      <td>1164.670</td>\n",
              "      <td>2013-12-31</td>\n",
              "      <td>2013</td>\n",
              "      <td>12</td>\n",
              "      <td>31</td>\n",
              "    </tr>\n",
              "    <tr>\n",
              "      <th>1067</th>\n",
              "      <td>-838.695</td>\n",
              "      <td>2013-12-31</td>\n",
              "      <td>2013</td>\n",
              "      <td>12</td>\n",
              "      <td>31</td>\n",
              "    </tr>\n",
              "    <tr>\n",
              "      <th>1068</th>\n",
              "      <td>685.100</td>\n",
              "      <td>2013-12-31</td>\n",
              "      <td>2013</td>\n",
              "      <td>12</td>\n",
              "      <td>31</td>\n",
              "    </tr>\n",
              "    <tr>\n",
              "      <th>1069</th>\n",
              "      <td>2794.545</td>\n",
              "      <td>2013-12-31</td>\n",
              "      <td>2013</td>\n",
              "      <td>12</td>\n",
              "      <td>31</td>\n",
              "    </tr>\n",
              "    <tr>\n",
              "      <th>...</th>\n",
              "      <td>...</td>\n",
              "      <td>...</td>\n",
              "      <td>...</td>\n",
              "      <td>...</td>\n",
              "      <td>...</td>\n",
              "    </tr>\n",
              "    <tr>\n",
              "      <th>23048</th>\n",
              "      <td>1396.720</td>\n",
              "      <td>2011-01-25</td>\n",
              "      <td>2011</td>\n",
              "      <td>1</td>\n",
              "      <td>25</td>\n",
              "    </tr>\n",
              "    <tr>\n",
              "      <th>23049</th>\n",
              "      <td>748.085</td>\n",
              "      <td>2011-01-25</td>\n",
              "      <td>2011</td>\n",
              "      <td>1</td>\n",
              "      <td>25</td>\n",
              "    </tr>\n",
              "    <tr>\n",
              "      <th>23050</th>\n",
              "      <td>4649.840</td>\n",
              "      <td>2011-01-25</td>\n",
              "      <td>2011</td>\n",
              "      <td>1</td>\n",
              "      <td>25</td>\n",
              "    </tr>\n",
              "    <tr>\n",
              "      <th>23051</th>\n",
              "      <td>3785.730</td>\n",
              "      <td>2011-01-25</td>\n",
              "      <td>2011</td>\n",
              "      <td>1</td>\n",
              "      <td>25</td>\n",
              "    </tr>\n",
              "    <tr>\n",
              "      <th>23052</th>\n",
              "      <td>493.935</td>\n",
              "      <td>2011-01-25</td>\n",
              "      <td>2011</td>\n",
              "      <td>1</td>\n",
              "      <td>25</td>\n",
              "    </tr>\n",
              "  </tbody>\n",
              "</table>\n",
              "<p>21988 rows × 5 columns</p>\n",
              "</div>"
            ],
            "text/plain": [
              "       total_amt       Date  Year  Month  Day\n",
              "1065    4375.800 2013-12-31  2013     12   31\n",
              "1066    1164.670 2013-12-31  2013     12   31\n",
              "1067    -838.695 2013-12-31  2013     12   31\n",
              "1068     685.100 2013-12-31  2013     12   31\n",
              "1069    2794.545 2013-12-31  2013     12   31\n",
              "...          ...        ...   ...    ...  ...\n",
              "23048   1396.720 2011-01-25  2011      1   25\n",
              "23049    748.085 2011-01-25  2011      1   25\n",
              "23050   4649.840 2011-01-25  2011      1   25\n",
              "23051   3785.730 2011-01-25  2011      1   25\n",
              "23052    493.935 2011-01-25  2011      1   25\n",
              "\n",
              "[21988 rows x 5 columns]"
            ]
          },
          "metadata": {
            "tags": []
          },
          "execution_count": 13
        }
      ]
    },
    {
      "cell_type": "code",
      "metadata": {
        "id": "YhpQdWBOK4kW"
      },
      "source": [
        "# Creación del DataFrame \"table\" que actúa como una tabla dinámica de Excel.\n",
        "\n",
        "table = pd.pivot_table(prom_mes_mas_ventas, values='total_amt', index='Year', \n",
        "                       columns='Month', aggfunc=np.mean)\n",
        "\n",
        "table = table.transpose()"
      ],
      "execution_count": null,
      "outputs": []
    },
    {
      "cell_type": "code",
      "metadata": {
        "colab": {
          "base_uri": "https://localhost:8080/",
          "height": 452
        },
        "id": "tlhVoMMvk8mQ",
        "outputId": "f718478a-e9f3-4fbd-e995-3cfd4b684dcc"
      },
      "source": [
        "table"
      ],
      "execution_count": null,
      "outputs": [
        {
          "output_type": "execute_result",
          "data": {
            "text/html": [
              "<div>\n",
              "<style scoped>\n",
              "    .dataframe tbody tr th:only-of-type {\n",
              "        vertical-align: middle;\n",
              "    }\n",
              "\n",
              "    .dataframe tbody tr th {\n",
              "        vertical-align: top;\n",
              "    }\n",
              "\n",
              "    .dataframe thead th {\n",
              "        text-align: right;\n",
              "    }\n",
              "</style>\n",
              "<table border=\"1\" class=\"dataframe\">\n",
              "  <thead>\n",
              "    <tr style=\"text-align: right;\">\n",
              "      <th>Year</th>\n",
              "      <th>2011</th>\n",
              "      <th>2012</th>\n",
              "      <th>2013</th>\n",
              "    </tr>\n",
              "    <tr>\n",
              "      <th>Month</th>\n",
              "      <th></th>\n",
              "      <th></th>\n",
              "      <th></th>\n",
              "    </tr>\n",
              "  </thead>\n",
              "  <tbody>\n",
              "    <tr>\n",
              "      <th>1</th>\n",
              "      <td>2392.254468</td>\n",
              "      <td>2012.392850</td>\n",
              "      <td>2260.065557</td>\n",
              "    </tr>\n",
              "    <tr>\n",
              "      <th>2</th>\n",
              "      <td>1931.231856</td>\n",
              "      <td>2152.722043</td>\n",
              "      <td>2192.167936</td>\n",
              "    </tr>\n",
              "    <tr>\n",
              "      <th>3</th>\n",
              "      <td>2121.012596</td>\n",
              "      <td>2279.046764</td>\n",
              "      <td>2194.051939</td>\n",
              "    </tr>\n",
              "    <tr>\n",
              "      <th>4</th>\n",
              "      <td>2265.745345</td>\n",
              "      <td>1835.070658</td>\n",
              "      <td>2155.436892</td>\n",
              "    </tr>\n",
              "    <tr>\n",
              "      <th>5</th>\n",
              "      <td>2007.106889</td>\n",
              "      <td>2043.942405</td>\n",
              "      <td>2091.137935</td>\n",
              "    </tr>\n",
              "    <tr>\n",
              "      <th>6</th>\n",
              "      <td>2112.974118</td>\n",
              "      <td>2281.686875</td>\n",
              "      <td>2059.620205</td>\n",
              "    </tr>\n",
              "    <tr>\n",
              "      <th>7</th>\n",
              "      <td>1968.872383</td>\n",
              "      <td>2057.185429</td>\n",
              "      <td>1950.511810</td>\n",
              "    </tr>\n",
              "    <tr>\n",
              "      <th>8</th>\n",
              "      <td>1938.011646</td>\n",
              "      <td>2114.061248</td>\n",
              "      <td>2130.662348</td>\n",
              "    </tr>\n",
              "    <tr>\n",
              "      <th>9</th>\n",
              "      <td>2151.401916</td>\n",
              "      <td>2115.028531</td>\n",
              "      <td>2093.304045</td>\n",
              "    </tr>\n",
              "    <tr>\n",
              "      <th>10</th>\n",
              "      <td>2207.981719</td>\n",
              "      <td>2092.132786</td>\n",
              "      <td>2039.624151</td>\n",
              "    </tr>\n",
              "    <tr>\n",
              "      <th>11</th>\n",
              "      <td>2288.432342</td>\n",
              "      <td>2097.873615</td>\n",
              "      <td>2144.271166</td>\n",
              "    </tr>\n",
              "    <tr>\n",
              "      <th>12</th>\n",
              "      <td>2106.970151</td>\n",
              "      <td>2256.812938</td>\n",
              "      <td>1989.115396</td>\n",
              "    </tr>\n",
              "  </tbody>\n",
              "</table>\n",
              "</div>"
            ],
            "text/plain": [
              "Year          2011         2012         2013\n",
              "Month                                       \n",
              "1      2392.254468  2012.392850  2260.065557\n",
              "2      1931.231856  2152.722043  2192.167936\n",
              "3      2121.012596  2279.046764  2194.051939\n",
              "4      2265.745345  1835.070658  2155.436892\n",
              "5      2007.106889  2043.942405  2091.137935\n",
              "6      2112.974118  2281.686875  2059.620205\n",
              "7      1968.872383  2057.185429  1950.511810\n",
              "8      1938.011646  2114.061248  2130.662348\n",
              "9      2151.401916  2115.028531  2093.304045\n",
              "10     2207.981719  2092.132786  2039.624151\n",
              "11     2288.432342  2097.873615  2144.271166\n",
              "12     2106.970151  2256.812938  1989.115396"
            ]
          },
          "metadata": {
            "tags": []
          },
          "execution_count": 15
        }
      ]
    },
    {
      "cell_type": "markdown",
      "metadata": {
        "id": "dT8d0RGZI5fa"
      },
      "source": [
        "Al dataet \"table\" se le agregará una nueva columna la cual es el promedio del respectivo mes en los años 2011, 2012 y 2013. Adicionalmente, para efectos de visualización se agregará una nueva columna con una abreviación de los meses del año para evitar trabajar con número enteros para hacer referencia a los meses, a pesar de ser muy intuitivo usar número enteros para la representación de meses.\n"
      ]
    },
    {
      "cell_type": "code",
      "metadata": {
        "id": "_hg8OMeWOPl_"
      },
      "source": [
        "table['Mean'] = table.mean(axis=1)"
      ],
      "execution_count": null,
      "outputs": []
    },
    {
      "cell_type": "code",
      "metadata": {
        "id": "AYRZppp2lFUo"
      },
      "source": [
        "table['Month'] = ['Ene', 'Feb', 'Mar', 'Abr', 'May', 'Jun', 'Jul', 'Ago', 'Sep', 'Oct', 'Nov', 'Dic']"
      ],
      "execution_count": null,
      "outputs": []
    },
    {
      "cell_type": "code",
      "metadata": {
        "colab": {
          "base_uri": "https://localhost:8080/",
          "height": 452
        },
        "id": "5_8sdjkumlQx",
        "outputId": "691c4896-885c-40a6-c98a-5f06441009e2"
      },
      "source": [
        "table"
      ],
      "execution_count": null,
      "outputs": [
        {
          "output_type": "execute_result",
          "data": {
            "text/html": [
              "<div>\n",
              "<style scoped>\n",
              "    .dataframe tbody tr th:only-of-type {\n",
              "        vertical-align: middle;\n",
              "    }\n",
              "\n",
              "    .dataframe tbody tr th {\n",
              "        vertical-align: top;\n",
              "    }\n",
              "\n",
              "    .dataframe thead th {\n",
              "        text-align: right;\n",
              "    }\n",
              "</style>\n",
              "<table border=\"1\" class=\"dataframe\">\n",
              "  <thead>\n",
              "    <tr style=\"text-align: right;\">\n",
              "      <th>Year</th>\n",
              "      <th>2011</th>\n",
              "      <th>2012</th>\n",
              "      <th>2013</th>\n",
              "      <th>Mean</th>\n",
              "      <th>Month</th>\n",
              "    </tr>\n",
              "    <tr>\n",
              "      <th>Month</th>\n",
              "      <th></th>\n",
              "      <th></th>\n",
              "      <th></th>\n",
              "      <th></th>\n",
              "      <th></th>\n",
              "    </tr>\n",
              "  </thead>\n",
              "  <tbody>\n",
              "    <tr>\n",
              "      <th>1</th>\n",
              "      <td>2392.254468</td>\n",
              "      <td>2012.392850</td>\n",
              "      <td>2260.065557</td>\n",
              "      <td>2221.570958</td>\n",
              "      <td>Ene</td>\n",
              "    </tr>\n",
              "    <tr>\n",
              "      <th>2</th>\n",
              "      <td>1931.231856</td>\n",
              "      <td>2152.722043</td>\n",
              "      <td>2192.167936</td>\n",
              "      <td>2092.040612</td>\n",
              "      <td>Feb</td>\n",
              "    </tr>\n",
              "    <tr>\n",
              "      <th>3</th>\n",
              "      <td>2121.012596</td>\n",
              "      <td>2279.046764</td>\n",
              "      <td>2194.051939</td>\n",
              "      <td>2198.037100</td>\n",
              "      <td>Mar</td>\n",
              "    </tr>\n",
              "    <tr>\n",
              "      <th>4</th>\n",
              "      <td>2265.745345</td>\n",
              "      <td>1835.070658</td>\n",
              "      <td>2155.436892</td>\n",
              "      <td>2085.417632</td>\n",
              "      <td>Abr</td>\n",
              "    </tr>\n",
              "    <tr>\n",
              "      <th>5</th>\n",
              "      <td>2007.106889</td>\n",
              "      <td>2043.942405</td>\n",
              "      <td>2091.137935</td>\n",
              "      <td>2047.395743</td>\n",
              "      <td>May</td>\n",
              "    </tr>\n",
              "    <tr>\n",
              "      <th>6</th>\n",
              "      <td>2112.974118</td>\n",
              "      <td>2281.686875</td>\n",
              "      <td>2059.620205</td>\n",
              "      <td>2151.427066</td>\n",
              "      <td>Jun</td>\n",
              "    </tr>\n",
              "    <tr>\n",
              "      <th>7</th>\n",
              "      <td>1968.872383</td>\n",
              "      <td>2057.185429</td>\n",
              "      <td>1950.511810</td>\n",
              "      <td>1992.189874</td>\n",
              "      <td>Jul</td>\n",
              "    </tr>\n",
              "    <tr>\n",
              "      <th>8</th>\n",
              "      <td>1938.011646</td>\n",
              "      <td>2114.061248</td>\n",
              "      <td>2130.662348</td>\n",
              "      <td>2060.911747</td>\n",
              "      <td>Ago</td>\n",
              "    </tr>\n",
              "    <tr>\n",
              "      <th>9</th>\n",
              "      <td>2151.401916</td>\n",
              "      <td>2115.028531</td>\n",
              "      <td>2093.304045</td>\n",
              "      <td>2119.911498</td>\n",
              "      <td>Sep</td>\n",
              "    </tr>\n",
              "    <tr>\n",
              "      <th>10</th>\n",
              "      <td>2207.981719</td>\n",
              "      <td>2092.132786</td>\n",
              "      <td>2039.624151</td>\n",
              "      <td>2113.246219</td>\n",
              "      <td>Oct</td>\n",
              "    </tr>\n",
              "    <tr>\n",
              "      <th>11</th>\n",
              "      <td>2288.432342</td>\n",
              "      <td>2097.873615</td>\n",
              "      <td>2144.271166</td>\n",
              "      <td>2176.859041</td>\n",
              "      <td>Nov</td>\n",
              "    </tr>\n",
              "    <tr>\n",
              "      <th>12</th>\n",
              "      <td>2106.970151</td>\n",
              "      <td>2256.812938</td>\n",
              "      <td>1989.115396</td>\n",
              "      <td>2117.632828</td>\n",
              "      <td>Dic</td>\n",
              "    </tr>\n",
              "  </tbody>\n",
              "</table>\n",
              "</div>"
            ],
            "text/plain": [
              "Year          2011         2012         2013         Mean Month\n",
              "Month                                                          \n",
              "1      2392.254468  2012.392850  2260.065557  2221.570958   Ene\n",
              "2      1931.231856  2152.722043  2192.167936  2092.040612   Feb\n",
              "3      2121.012596  2279.046764  2194.051939  2198.037100   Mar\n",
              "4      2265.745345  1835.070658  2155.436892  2085.417632   Abr\n",
              "5      2007.106889  2043.942405  2091.137935  2047.395743   May\n",
              "6      2112.974118  2281.686875  2059.620205  2151.427066   Jun\n",
              "7      1968.872383  2057.185429  1950.511810  1992.189874   Jul\n",
              "8      1938.011646  2114.061248  2130.662348  2060.911747   Ago\n",
              "9      2151.401916  2115.028531  2093.304045  2119.911498   Sep\n",
              "10     2207.981719  2092.132786  2039.624151  2113.246219   Oct\n",
              "11     2288.432342  2097.873615  2144.271166  2176.859041   Nov\n",
              "12     2106.970151  2256.812938  1989.115396  2117.632828   Dic"
            ]
          },
          "metadata": {
            "tags": []
          },
          "execution_count": 18
        }
      ]
    },
    {
      "cell_type": "code",
      "metadata": {
        "colab": {
          "base_uri": "https://localhost:8080/",
          "height": 312
        },
        "id": "4aUeq607rlKj",
        "outputId": "79e51748-8a9e-47dd-972c-d29f2652c823"
      },
      "source": [
        "ventas_mes_promedio = sns.barplot(data=table, \n",
        "                                  x='Month', \n",
        "                                  y='Mean', \n",
        "                                  palette='coolwarm')\n",
        "ventas_mes_promedio.set(xlabel='Mes',\n",
        "                        ylabel='Ingresos Promedio ($)',\n",
        "                        title='Ventas Promedio por Mes 2011 - 2013')\n",
        "ventas_mes_promedio"
      ],
      "execution_count": null,
      "outputs": [
        {
          "output_type": "execute_result",
          "data": {
            "text/plain": [
              "<matplotlib.axes._subplots.AxesSubplot at 0x7fef6667b690>"
            ]
          },
          "metadata": {
            "tags": []
          },
          "execution_count": 19
        },
        {
          "output_type": "display_data",
          "data": {
            "image/png": "[encoded data removed]",
            "text/plain": [
              "<Figure size 432x288 with 1 Axes>"
            ]
          },
          "metadata": {
            "tags": []
          }
        }
      ]
    },
    {
      "cell_type": "markdown",
      "metadata": {
        "id": "paLxJl0YLpyM"
      },
      "source": [
        "De la gráfica anterior podría decirse que enero es el mes en el que en promedio se reciben más ingresos por ventas y que julio es el mes en el que en promedio se reciben menos ingresos por ventas. Para corroborar estas conclusiones y conocer valores, se procede a calcular el promedio máximo y mínimo de ingresos por mes:"
      ]
    },
    {
      "cell_type": "code",
      "metadata": {
        "colab": {
          "base_uri": "https://localhost:8080/"
        },
        "id": "NQktDFg6vsWt",
        "outputId": "a4d49447-d567-43e6-913b-8907f837c390"
      },
      "source": [
        "maximo = table['Mean'].max()\n",
        "mes_max = table._get_value(table['Mean'].idxmax(),'Month') \n",
        "\n",
        "minimo = table['Mean'].min()\n",
        "mes_min = table._get_value(table['Mean'].idxmin(),'Month')\n",
        "\n",
        "print(f'El mes que en promedio tiene más ingresos es {mes_max} con ${maximo}')\n",
        "print(f'El mes que en promedio tiene menos ingresos es {mes_min} con ${minimo}')"
      ],
      "execution_count": null,
      "outputs": [
        {
          "output_type": "stream",
          "text": [
            "El mes que en promedio tiene más ingresos es Ene con $2221.5709584873853\n",
            "El mes que en promedio tiene menos ingresos es Jul con $1992.1898742362964\n"
          ],
          "name": "stdout"
        }
      ]
    },
    {
      "cell_type": "markdown",
      "metadata": {
        "id": "1QzmDc5ALFJy"
      },
      "source": [
        "Con el análisis anterior se confirma la idea inicial, efectivamente en el mes de enero tiene mayores ingresos en promedio y julio tiene en promedio menos ingresos. Se esperaría que fuera diciembre el mes que mayores ingresos en ventas en promedio. Para aprovechar las fechas navideñas, en diciembre se podrían realizar estrategias de marketing, descuentos, promociones, etc. para impulsar más las venta en diciembre ya que este mes tiene un gran potencial de compra por parte de los clientes."
      ]
    },
    {
      "cell_type": "markdown",
      "metadata": {
        "id": "AXtnAnFSH0oE"
      },
      "source": [
        "####**4.3. ¿Cuál de los medios de distribución ha generado más ingresos en promedio por categorías?**\n",
        "---\n",
        "\n",
        "La respuesta a esta pregunta puede obtenerse de forma visual a partir de una gráfica de barras que muestre en el eje x, las categorías de productos y sus respectivas ventas en cada unos de los canales de distribución de la tienda vs el promedio de ingresos generados durante el periodo de registro.\n"
      ]
    },
    {
      "cell_type": "code",
      "metadata": {
        "colab": {
          "base_uri": "https://localhost:8080/",
          "height": 374
        },
        "id": "Gop4nX14OY0v",
        "outputId": "24093813-5ef5-4167-942a-a62785d410e6"
      },
      "source": [
        "canales = sns.barplot(data=transacciones,\n",
        "                      x='prod_cat',\n",
        "                      y='total_amt',\n",
        "                      hue='Store_type',\n",
        "                      palette='Set2')\n",
        "canales.set_xticklabels(canales.get_xticklabels(), \n",
        "                          rotation=45)\n",
        "canales.set(xlabel='Categoría de Productos',\n",
        "            ylabel='Ventas ($)',\n",
        "            title='Ventas en Canales de Distriución')\n",
        "canales"
      ],
      "execution_count": null,
      "outputs": [
        {
          "output_type": "execute_result",
          "data": {
            "text/plain": [
              "<matplotlib.axes._subplots.AxesSubplot at 0x7f866aab1bd0>"
            ]
          },
          "metadata": {
            "tags": []
          },
          "execution_count": 75
        },
        {
          "output_type": "display_data",
          "data": {
            "image/png": "[encoded data removed]",
            "text/plain": [
              "<Figure size 432x288 with 1 Axes>"
            ]
          },
          "metadata": {
            "tags": []
          }
        }
      ]
    },
    {
      "cell_type": "markdown",
      "metadata": {
        "id": "bODry0FvJqY0"
      },
      "source": [
        "De la gráfica anterior se pueden sacar las siguientes conclusiones:\n",
        "\n",
        "\n",
        "*   Ropa (Clothing): Se vende más por Teleshop y menos por Flagship stores \n",
        "*   Tecnología (Electronis): Se vende más por Flagship stores y menos por Teleshop.\n",
        "*   Libros (Books): Se vende más por e-shop y menos por Flagship stores.\n",
        "*   Hogar y cocina (hme and kitchen): se vende más por MBR y menos por e-shop.\n",
        "*   Calzado (Footwear): Se vende más por e-shop y menos por MBR.\n",
        "*   Maletas (Bags): Se vende más por Flagship stores y menor por Teleshop.\n",
        "\n",
        "\n",
        "\n",
        "\n",
        "\n",
        "\n"
      ]
    },
    {
      "cell_type": "markdown",
      "metadata": {
        "id": "BeQwC-rTOzW7"
      },
      "source": [
        "####**4.4. ¿Cuál es la proporción de hombres que compran elementos de hogar y cocina?**\n",
        "---\n",
        "\n",
        "Del departamento de Hogar y Cocina se quiere conocer la proporción de hombres que compran artículos de este departamento. Este departamento quiere conocer esta proporción para decidir si implementar publicidad de artículos de hogar y cocina enfocada a hombres, dependiendo de los resultados se puede tomar una decisión al respecto."
      ]
    },
    {
      "cell_type": "code",
      "metadata": {
        "colab": {
          "base_uri": "https://localhost:8080/"
        },
        "id": "_CsBOFd_SzVU",
        "outputId": "170cbdc6-8013-4158-b238-6f05d0aa23e8"
      },
      "source": [
        "# Cálculo del total de hombres en la muestra\n",
        "\n",
        "total_M = transacciones.loc[transacciones['Gender']=='M'].shape[0]\n",
        "total_M"
      ],
      "execution_count": null,
      "outputs": [
        {
          "output_type": "execute_result",
          "data": {
            "text/plain": [
              "11805"
            ]
          },
          "metadata": {
            "tags": []
          },
          "execution_count": 28
        }
      ]
    },
    {
      "cell_type": "markdown",
      "metadata": {
        "id": "c0Np61KaLazu"
      },
      "source": [
        "La cantidad de hombres que han realizado una compra (en cualquier departamento) es 11805."
      ]
    },
    {
      "cell_type": "code",
      "metadata": {
        "colab": {
          "base_uri": "https://localhost:8080/"
        },
        "id": "i_POYKiIU7uh",
        "outputId": "836c0c5e-e5a4-40bd-a15b-4c0c9d80dbce"
      },
      "source": [
        "# Cantidad de hombres que compraron elementos de hogar y cocina\n",
        "\n",
        "hombres_cocina = transacciones.loc[(transacciones['Gender']=='M') &\n",
        "                                   (transacciones['prod_cat']=='Home and kitchen')].shape[0]\n",
        "hombres_cocina"
      ],
      "execution_count": null,
      "outputs": [
        {
          "output_type": "execute_result",
          "data": {
            "text/plain": [
              "2132"
            ]
          },
          "metadata": {
            "tags": []
          },
          "execution_count": 29
        }
      ]
    },
    {
      "cell_type": "markdown",
      "metadata": {
        "id": "xAevb7cxMEDo"
      },
      "source": [
        "La cantidad de hombres que han realizado una compra en el departamento de hogar y cocina es 2132."
      ]
    },
    {
      "cell_type": "code",
      "metadata": {
        "colab": {
          "base_uri": "https://localhost:8080/"
        },
        "id": "RgQDZaQ6U_QB",
        "outputId": "76822426-872d-4371-db84-f00c6eecb466"
      },
      "source": [
        "# Proporción de hombres que compraron elementos de hogar y cocina en la muestra\n",
        "\n",
        "prop_hombres = hombres_cocina / total_M\n",
        "confianza = 0.95\n",
        "\n",
        "prop_hombres"
      ],
      "execution_count": null,
      "outputs": [
        {
          "output_type": "execute_result",
          "data": {
            "text/plain": [
              "0.1806014400677679"
            ]
          },
          "metadata": {
            "tags": []
          },
          "execution_count": 30
        }
      ]
    },
    {
      "cell_type": "markdown",
      "metadata": {
        "id": "TU_O6mLTMPp8"
      },
      "source": [
        "La proporción de hombres que ha comprado artículos de departamento Hogar y Cocina es 18.06%"
      ]
    },
    {
      "cell_type": "code",
      "metadata": {
        "colab": {
          "base_uri": "https://localhost:8080/"
        },
        "id": "ockiEZfEWEBl",
        "outputId": "b794dc2e-71a5-4890-8883-07d459185f1e"
      },
      "source": [
        "# Creación del intervalo de la proporción con un 95% de confianza.\n",
        "\n",
        "limite_inferior, limite_superior = sm.stats.proportion_confint(total_M * prop_hombres, total_M)\n",
        "\n",
        "intervalo = (limite_inferior, limite_superior)\n",
        "\n",
        "intervalo"
      ],
      "execution_count": null,
      "outputs": [
        {
          "output_type": "execute_result",
          "data": {
            "text/plain": [
              "(0.17366201807798215, 0.18754086205755366)"
            ]
          },
          "metadata": {
            "tags": []
          },
          "execution_count": 31
        }
      ]
    },
    {
      "cell_type": "markdown",
      "metadata": {
        "id": "RhJcnaFQCsdj"
      },
      "source": [
        "El resultado anterior nos permite decir que la proporción de hombres que comprar artículos de la categoría hogar y cocina (Home and Kitchen) está entre un 17,4% y un 18,8% con un 95% de confianza. A partir del análisis anterior se podrían tomar varias alternativas, si para la tienda que un 20% del total de hombres compre artículos de la categoría hogar y cocina está bien, se puede seguir la estrategia que se ha implementado hasta el momento, si es un porcentaje bajo, debería cambiarse el enfoque de la publicidad, por ejemplo."
      ]
    },
    {
      "cell_type": "code",
      "metadata": {
        "colab": {
          "base_uri": "https://localhost:8080/",
          "height": 281
        },
        "id": "w87HthMx5t1z",
        "outputId": "3bf09f74-eeb7-4bff-a9ab-b82664f95361"
      },
      "source": [
        "# Gráfica pie de la proporción de hombres que comprar artículos de hogar y cocina.\n",
        "\n",
        "labels = 'Hombres H&C', 'Total Hombres'\n",
        "sizes = [prop_hombres, 1-prop_hombres]\n",
        "\n",
        "fig1, ax1 = plt.subplots()\n",
        "ax1.pie(sizes, labels=labels,\n",
        "        autopct='%1.1f%%',\n",
        "        colors=['#66b3ff','#99ff99'],\n",
        "        shadow=True)\n",
        "ax1.set_title(\"Proporción de hombres que compran elementos de Hogar y Cocina\")\n",
        "ax1"
      ],
      "execution_count": null,
      "outputs": [
        {
          "output_type": "execute_result",
          "data": {
            "text/plain": [
              "<matplotlib.axes._subplots.AxesSubplot at 0x7f866a410c10>"
            ]
          },
          "metadata": {
            "tags": []
          },
          "execution_count": 87
        },
        {
          "output_type": "display_data",
          "data": {
            "image/png": "[encoded data removed]",
            "text/plain": [
              "<Figure size 432x288 with 1 Axes>"
            ]
          },
          "metadata": {
            "tags": []
          }
        }
      ]
    },
    {
      "cell_type": "markdown",
      "metadata": {
        "id": "Z1R0EwaQY2cz"
      },
      "source": [
        "####**4.5. ¿Ha variado la venta de computadores del año 2011 al año 2013?**\n",
        "---\n",
        "\n",
        "También quisiera conocer la efectividad de la nueva estrategia de marketing de computadores implementada en el año 2011, así que se desea averiguar si hay alguna diferencia entre los ingresos por computadores en los años 2011 y 2013. Para responder a esta pregunta se realizará una prueba de hipótesis donde:\n",
        "\n",
        "* Hipótesis nula $H_0: \\mu_1 2011 = \\mu_2 2013$ ($\\mu_1 2011 - \\mu_2 2013 = 0$)\n",
        "* Hipótesis alternativa $H_a: \\mu_12011 \\neq \\mu_22013$ ($\\mu_12011 - \\mu_22013 \\neq 0$)\n",
        "\n",
        "La hipótesis nula sugiere que no hay difencia entre las medias de ventas de computadores entre los años 2011 y 2013 y la hipótesis alternativa sugiere que sí hay una diferencia significativa entre las medias de ventas entre los años 2011 y 2013."
      ]
    },
    {
      "cell_type": "code",
      "metadata": {
        "id": "fo0aX-KyQABN",
        "colab": {
          "base_uri": "https://localhost:8080/",
          "height": 419
        },
        "outputId": "38efcf4f-9f32-44a3-fa6b-1bd10b2a0f10"
      },
      "source": [
        "# Creación de un dataframe únicamente con las transacciones de computadores.\n",
        "\n",
        "computadores = transacciones.loc[(transacciones['prod_subcat'] == 'Computers'),\n",
        "                                      ['prod_subcat','total_amt','tran_date']]\n",
        "computadores"
      ],
      "execution_count": null,
      "outputs": [
        {
          "output_type": "execute_result",
          "data": {
            "text/html": [
              "<div>\n",
              "<style scoped>\n",
              "    .dataframe tbody tr th:only-of-type {\n",
              "        vertical-align: middle;\n",
              "    }\n",
              "\n",
              "    .dataframe tbody tr th {\n",
              "        vertical-align: top;\n",
              "    }\n",
              "\n",
              "    .dataframe thead th {\n",
              "        text-align: right;\n",
              "    }\n",
              "</style>\n",
              "<table border=\"1\" class=\"dataframe\">\n",
              "  <thead>\n",
              "    <tr style=\"text-align: right;\">\n",
              "      <th></th>\n",
              "      <th>prod_subcat</th>\n",
              "      <th>total_amt</th>\n",
              "      <th>tran_date</th>\n",
              "    </tr>\n",
              "  </thead>\n",
              "  <tbody>\n",
              "    <tr>\n",
              "      <th>1</th>\n",
              "      <td>Computers</td>\n",
              "      <td>-8270.925</td>\n",
              "      <td>27-02-2014</td>\n",
              "    </tr>\n",
              "    <tr>\n",
              "      <th>10</th>\n",
              "      <td>Computers</td>\n",
              "      <td>8270.925</td>\n",
              "      <td>20-02-2014</td>\n",
              "    </tr>\n",
              "    <tr>\n",
              "      <th>22</th>\n",
              "      <td>Computers</td>\n",
              "      <td>3987.945</td>\n",
              "      <td>20-02-2014</td>\n",
              "    </tr>\n",
              "    <tr>\n",
              "      <th>104</th>\n",
              "      <td>Computers</td>\n",
              "      <td>5931.640</td>\n",
              "      <td>15-02-2014</td>\n",
              "    </tr>\n",
              "    <tr>\n",
              "      <th>178</th>\n",
              "      <td>Computers</td>\n",
              "      <td>649.740</td>\n",
              "      <td>11/2/2014</td>\n",
              "    </tr>\n",
              "    <tr>\n",
              "      <th>...</th>\n",
              "      <td>...</td>\n",
              "      <td>...</td>\n",
              "      <td>...</td>\n",
              "    </tr>\n",
              "    <tr>\n",
              "      <th>22988</th>\n",
              "      <td>Computers</td>\n",
              "      <td>1443.130</td>\n",
              "      <td>28-01-2011</td>\n",
              "    </tr>\n",
              "    <tr>\n",
              "      <th>22991</th>\n",
              "      <td>Computers</td>\n",
              "      <td>2563.600</td>\n",
              "      <td>28-01-2011</td>\n",
              "    </tr>\n",
              "    <tr>\n",
              "      <th>23003</th>\n",
              "      <td>Computers</td>\n",
              "      <td>1434.290</td>\n",
              "      <td>27-01-2011</td>\n",
              "    </tr>\n",
              "    <tr>\n",
              "      <th>23026</th>\n",
              "      <td>Computers</td>\n",
              "      <td>5295.160</td>\n",
              "      <td>26-01-2011</td>\n",
              "    </tr>\n",
              "    <tr>\n",
              "      <th>23042</th>\n",
              "      <td>Computers</td>\n",
              "      <td>609.960</td>\n",
              "      <td>25-01-2011</td>\n",
              "    </tr>\n",
              "  </tbody>\n",
              "</table>\n",
              "<p>956 rows × 3 columns</p>\n",
              "</div>"
            ],
            "text/plain": [
              "      prod_subcat  total_amt   tran_date\n",
              "1       Computers  -8270.925  27-02-2014\n",
              "10      Computers   8270.925  20-02-2014\n",
              "22      Computers   3987.945  20-02-2014\n",
              "104     Computers   5931.640  15-02-2014\n",
              "178     Computers    649.740   11/2/2014\n",
              "...           ...        ...         ...\n",
              "22988   Computers   1443.130  28-01-2011\n",
              "22991   Computers   2563.600  28-01-2011\n",
              "23003   Computers   1434.290  27-01-2011\n",
              "23026   Computers   5295.160  26-01-2011\n",
              "23042   Computers    609.960  25-01-2011\n",
              "\n",
              "[956 rows x 3 columns]"
            ]
          },
          "metadata": {
            "tags": []
          },
          "execution_count": 12
        }
      ]
    },
    {
      "cell_type": "code",
      "metadata": {
        "id": "jQK-C8KcS3_L",
        "colab": {
          "base_uri": "https://localhost:8080/",
          "height": 419
        },
        "outputId": "a68182d4-9cb6-4c9f-ce47-715c80c07a2d"
      },
      "source": [
        "# Modificación del formato de la columna 'tran_date' para dividir las transacciones por año.\n",
        "\n",
        "computadores['Date'] = pd.to_datetime(computadores['tran_date'], dayfirst=True)\n",
        "computadores['Year'] = computadores['Date'].apply(lambda x: x.year)\n",
        "computadores"
      ],
      "execution_count": null,
      "outputs": [
        {
          "output_type": "execute_result",
          "data": {
            "text/html": [
              "<div>\n",
              "<style scoped>\n",
              "    .dataframe tbody tr th:only-of-type {\n",
              "        vertical-align: middle;\n",
              "    }\n",
              "\n",
              "    .dataframe tbody tr th {\n",
              "        vertical-align: top;\n",
              "    }\n",
              "\n",
              "    .dataframe thead th {\n",
              "        text-align: right;\n",
              "    }\n",
              "</style>\n",
              "<table border=\"1\" class=\"dataframe\">\n",
              "  <thead>\n",
              "    <tr style=\"text-align: right;\">\n",
              "      <th></th>\n",
              "      <th>prod_subcat</th>\n",
              "      <th>total_amt</th>\n",
              "      <th>tran_date</th>\n",
              "      <th>Date</th>\n",
              "      <th>Year</th>\n",
              "    </tr>\n",
              "  </thead>\n",
              "  <tbody>\n",
              "    <tr>\n",
              "      <th>1</th>\n",
              "      <td>Computers</td>\n",
              "      <td>-8270.925</td>\n",
              "      <td>27-02-2014</td>\n",
              "      <td>2014-02-27</td>\n",
              "      <td>2014</td>\n",
              "    </tr>\n",
              "    <tr>\n",
              "      <th>10</th>\n",
              "      <td>Computers</td>\n",
              "      <td>8270.925</td>\n",
              "      <td>20-02-2014</td>\n",
              "      <td>2014-02-20</td>\n",
              "      <td>2014</td>\n",
              "    </tr>\n",
              "    <tr>\n",
              "      <th>22</th>\n",
              "      <td>Computers</td>\n",
              "      <td>3987.945</td>\n",
              "      <td>20-02-2014</td>\n",
              "      <td>2014-02-20</td>\n",
              "      <td>2014</td>\n",
              "    </tr>\n",
              "    <tr>\n",
              "      <th>104</th>\n",
              "      <td>Computers</td>\n",
              "      <td>5931.640</td>\n",
              "      <td>15-02-2014</td>\n",
              "      <td>2014-02-15</td>\n",
              "      <td>2014</td>\n",
              "    </tr>\n",
              "    <tr>\n",
              "      <th>178</th>\n",
              "      <td>Computers</td>\n",
              "      <td>649.740</td>\n",
              "      <td>11/2/2014</td>\n",
              "      <td>2014-02-11</td>\n",
              "      <td>2014</td>\n",
              "    </tr>\n",
              "    <tr>\n",
              "      <th>...</th>\n",
              "      <td>...</td>\n",
              "      <td>...</td>\n",
              "      <td>...</td>\n",
              "      <td>...</td>\n",
              "      <td>...</td>\n",
              "    </tr>\n",
              "    <tr>\n",
              "      <th>22988</th>\n",
              "      <td>Computers</td>\n",
              "      <td>1443.130</td>\n",
              "      <td>28-01-2011</td>\n",
              "      <td>2011-01-28</td>\n",
              "      <td>2011</td>\n",
              "    </tr>\n",
              "    <tr>\n",
              "      <th>22991</th>\n",
              "      <td>Computers</td>\n",
              "      <td>2563.600</td>\n",
              "      <td>28-01-2011</td>\n",
              "      <td>2011-01-28</td>\n",
              "      <td>2011</td>\n",
              "    </tr>\n",
              "    <tr>\n",
              "      <th>23003</th>\n",
              "      <td>Computers</td>\n",
              "      <td>1434.290</td>\n",
              "      <td>27-01-2011</td>\n",
              "      <td>2011-01-27</td>\n",
              "      <td>2011</td>\n",
              "    </tr>\n",
              "    <tr>\n",
              "      <th>23026</th>\n",
              "      <td>Computers</td>\n",
              "      <td>5295.160</td>\n",
              "      <td>26-01-2011</td>\n",
              "      <td>2011-01-26</td>\n",
              "      <td>2011</td>\n",
              "    </tr>\n",
              "    <tr>\n",
              "      <th>23042</th>\n",
              "      <td>Computers</td>\n",
              "      <td>609.960</td>\n",
              "      <td>25-01-2011</td>\n",
              "      <td>2011-01-25</td>\n",
              "      <td>2011</td>\n",
              "    </tr>\n",
              "  </tbody>\n",
              "</table>\n",
              "<p>956 rows × 5 columns</p>\n",
              "</div>"
            ],
            "text/plain": [
              "      prod_subcat  total_amt   tran_date       Date  Year\n",
              "1       Computers  -8270.925  27-02-2014 2014-02-27  2014\n",
              "10      Computers   8270.925  20-02-2014 2014-02-20  2014\n",
              "22      Computers   3987.945  20-02-2014 2014-02-20  2014\n",
              "104     Computers   5931.640  15-02-2014 2014-02-15  2014\n",
              "178     Computers    649.740   11/2/2014 2014-02-11  2014\n",
              "...           ...        ...         ...        ...   ...\n",
              "22988   Computers   1443.130  28-01-2011 2011-01-28  2011\n",
              "22991   Computers   2563.600  28-01-2011 2011-01-28  2011\n",
              "23003   Computers   1434.290  27-01-2011 2011-01-27  2011\n",
              "23026   Computers   5295.160  26-01-2011 2011-01-26  2011\n",
              "23042   Computers    609.960  25-01-2011 2011-01-25  2011\n",
              "\n",
              "[956 rows x 5 columns]"
            ]
          },
          "metadata": {
            "tags": []
          },
          "execution_count": 13
        }
      ]
    },
    {
      "cell_type": "code",
      "metadata": {
        "colab": {
          "base_uri": "https://localhost:8080/",
          "height": 419
        },
        "id": "Ew1az0VKWAoI",
        "outputId": "c98f0851-4d04-4338-b1aa-99c40f4e98b2"
      },
      "source": [
        "# Creación de un dataframe únicamente con las transacciones de computadores en el 2011.\n",
        "\n",
        "computadores_2011 = computadores.loc[computadores['Year'] == 2011]\n",
        "computadores_2011 "
      ],
      "execution_count": null,
      "outputs": [
        {
          "output_type": "execute_result",
          "data": {
            "text/html": [
              "<div>\n",
              "<style scoped>\n",
              "    .dataframe tbody tr th:only-of-type {\n",
              "        vertical-align: middle;\n",
              "    }\n",
              "\n",
              "    .dataframe tbody tr th {\n",
              "        vertical-align: top;\n",
              "    }\n",
              "\n",
              "    .dataframe thead th {\n",
              "        text-align: right;\n",
              "    }\n",
              "</style>\n",
              "<table border=\"1\" class=\"dataframe\">\n",
              "  <thead>\n",
              "    <tr style=\"text-align: right;\">\n",
              "      <th></th>\n",
              "      <th>prod_subcat</th>\n",
              "      <th>total_amt</th>\n",
              "      <th>tran_date</th>\n",
              "      <th>Date</th>\n",
              "      <th>Year</th>\n",
              "    </tr>\n",
              "  </thead>\n",
              "  <tbody>\n",
              "    <tr>\n",
              "      <th>16064</th>\n",
              "      <td>Computers</td>\n",
              "      <td>340.34</td>\n",
              "      <td>31-12-2011</td>\n",
              "      <td>2011-12-31</td>\n",
              "      <td>2011</td>\n",
              "    </tr>\n",
              "    <tr>\n",
              "      <th>16071</th>\n",
              "      <td>Computers</td>\n",
              "      <td>6508.45</td>\n",
              "      <td>31-12-2011</td>\n",
              "      <td>2011-12-31</td>\n",
              "      <td>2011</td>\n",
              "    </tr>\n",
              "    <tr>\n",
              "      <th>16086</th>\n",
              "      <td>Computers</td>\n",
              "      <td>2148.12</td>\n",
              "      <td>30-12-2011</td>\n",
              "      <td>2011-12-30</td>\n",
              "      <td>2011</td>\n",
              "    </tr>\n",
              "    <tr>\n",
              "      <th>16113</th>\n",
              "      <td>Computers</td>\n",
              "      <td>1838.72</td>\n",
              "      <td>29-12-2011</td>\n",
              "      <td>2011-12-29</td>\n",
              "      <td>2011</td>\n",
              "    </tr>\n",
              "    <tr>\n",
              "      <th>16246</th>\n",
              "      <td>Computers</td>\n",
              "      <td>2260.83</td>\n",
              "      <td>22-12-2011</td>\n",
              "      <td>2011-12-22</td>\n",
              "      <td>2011</td>\n",
              "    </tr>\n",
              "    <tr>\n",
              "      <th>...</th>\n",
              "      <td>...</td>\n",
              "      <td>...</td>\n",
              "      <td>...</td>\n",
              "      <td>...</td>\n",
              "      <td>...</td>\n",
              "    </tr>\n",
              "    <tr>\n",
              "      <th>22988</th>\n",
              "      <td>Computers</td>\n",
              "      <td>1443.13</td>\n",
              "      <td>28-01-2011</td>\n",
              "      <td>2011-01-28</td>\n",
              "      <td>2011</td>\n",
              "    </tr>\n",
              "    <tr>\n",
              "      <th>22991</th>\n",
              "      <td>Computers</td>\n",
              "      <td>2563.60</td>\n",
              "      <td>28-01-2011</td>\n",
              "      <td>2011-01-28</td>\n",
              "      <td>2011</td>\n",
              "    </tr>\n",
              "    <tr>\n",
              "      <th>23003</th>\n",
              "      <td>Computers</td>\n",
              "      <td>1434.29</td>\n",
              "      <td>27-01-2011</td>\n",
              "      <td>2011-01-27</td>\n",
              "      <td>2011</td>\n",
              "    </tr>\n",
              "    <tr>\n",
              "      <th>23026</th>\n",
              "      <td>Computers</td>\n",
              "      <td>5295.16</td>\n",
              "      <td>26-01-2011</td>\n",
              "      <td>2011-01-26</td>\n",
              "      <td>2011</td>\n",
              "    </tr>\n",
              "    <tr>\n",
              "      <th>23042</th>\n",
              "      <td>Computers</td>\n",
              "      <td>609.96</td>\n",
              "      <td>25-01-2011</td>\n",
              "      <td>2011-01-25</td>\n",
              "      <td>2011</td>\n",
              "    </tr>\n",
              "  </tbody>\n",
              "</table>\n",
              "<p>297 rows × 5 columns</p>\n",
              "</div>"
            ],
            "text/plain": [
              "      prod_subcat  total_amt   tran_date       Date  Year\n",
              "16064   Computers     340.34  31-12-2011 2011-12-31  2011\n",
              "16071   Computers    6508.45  31-12-2011 2011-12-31  2011\n",
              "16086   Computers    2148.12  30-12-2011 2011-12-30  2011\n",
              "16113   Computers    1838.72  29-12-2011 2011-12-29  2011\n",
              "16246   Computers    2260.83  22-12-2011 2011-12-22  2011\n",
              "...           ...        ...         ...        ...   ...\n",
              "22988   Computers    1443.13  28-01-2011 2011-01-28  2011\n",
              "22991   Computers    2563.60  28-01-2011 2011-01-28  2011\n",
              "23003   Computers    1434.29  27-01-2011 2011-01-27  2011\n",
              "23026   Computers    5295.16  26-01-2011 2011-01-26  2011\n",
              "23042   Computers     609.96  25-01-2011 2011-01-25  2011\n",
              "\n",
              "[297 rows x 5 columns]"
            ]
          },
          "metadata": {
            "tags": []
          },
          "execution_count": 14
        }
      ]
    },
    {
      "cell_type": "code",
      "metadata": {
        "colab": {
          "base_uri": "https://localhost:8080/",
          "height": 419
        },
        "id": "r3FAKB3IWt2t",
        "outputId": "c8661e79-fee3-419f-ada9-bb728f3f1e31"
      },
      "source": [
        "# Creación de un dataframe únicamente con las transacciones de computadores en el 2013.\n",
        "\n",
        "computadores_2013 = computadores.loc[computadores['Year'] == 2013]\n",
        "computadores_2013"
      ],
      "execution_count": null,
      "outputs": [
        {
          "output_type": "execute_result",
          "data": {
            "text/html": [
              "<div>\n",
              "<style scoped>\n",
              "    .dataframe tbody tr th:only-of-type {\n",
              "        vertical-align: middle;\n",
              "    }\n",
              "\n",
              "    .dataframe tbody tr th {\n",
              "        vertical-align: top;\n",
              "    }\n",
              "\n",
              "    .dataframe thead th {\n",
              "        text-align: right;\n",
              "    }\n",
              "</style>\n",
              "<table border=\"1\" class=\"dataframe\">\n",
              "  <thead>\n",
              "    <tr style=\"text-align: right;\">\n",
              "      <th></th>\n",
              "      <th>prod_subcat</th>\n",
              "      <th>total_amt</th>\n",
              "      <th>tran_date</th>\n",
              "      <th>Date</th>\n",
              "      <th>Year</th>\n",
              "    </tr>\n",
              "  </thead>\n",
              "  <tbody>\n",
              "    <tr>\n",
              "      <th>1089</th>\n",
              "      <td>Computers</td>\n",
              "      <td>-6073.080</td>\n",
              "      <td>30-12-2013</td>\n",
              "      <td>2013-12-30</td>\n",
              "      <td>2013</td>\n",
              "    </tr>\n",
              "    <tr>\n",
              "      <th>1090</th>\n",
              "      <td>Computers</td>\n",
              "      <td>4583.540</td>\n",
              "      <td>30-12-2013</td>\n",
              "      <td>2013-12-30</td>\n",
              "      <td>2013</td>\n",
              "    </tr>\n",
              "    <tr>\n",
              "      <th>1103</th>\n",
              "      <td>Computers</td>\n",
              "      <td>2813.330</td>\n",
              "      <td>30-12-2013</td>\n",
              "      <td>2013-12-30</td>\n",
              "      <td>2013</td>\n",
              "    </tr>\n",
              "    <tr>\n",
              "      <th>1111</th>\n",
              "      <td>Computers</td>\n",
              "      <td>5432.180</td>\n",
              "      <td>29-12-2013</td>\n",
              "      <td>2013-12-29</td>\n",
              "      <td>2013</td>\n",
              "    </tr>\n",
              "    <tr>\n",
              "      <th>1131</th>\n",
              "      <td>Computers</td>\n",
              "      <td>6073.080</td>\n",
              "      <td>28-12-2013</td>\n",
              "      <td>2013-12-28</td>\n",
              "      <td>2013</td>\n",
              "    </tr>\n",
              "    <tr>\n",
              "      <th>...</th>\n",
              "      <td>...</td>\n",
              "      <td>...</td>\n",
              "      <td>...</td>\n",
              "      <td>...</td>\n",
              "      <td>...</td>\n",
              "    </tr>\n",
              "    <tr>\n",
              "      <th>8400</th>\n",
              "      <td>Computers</td>\n",
              "      <td>1074.060</td>\n",
              "      <td>6/1/2013</td>\n",
              "      <td>2013-01-06</td>\n",
              "      <td>2013</td>\n",
              "    </tr>\n",
              "    <tr>\n",
              "      <th>8429</th>\n",
              "      <td>Computers</td>\n",
              "      <td>1359.150</td>\n",
              "      <td>5/1/2013</td>\n",
              "      <td>2013-01-05</td>\n",
              "      <td>2013</td>\n",
              "    </tr>\n",
              "    <tr>\n",
              "      <th>8433</th>\n",
              "      <td>Computers</td>\n",
              "      <td>4425.525</td>\n",
              "      <td>5/1/2013</td>\n",
              "      <td>2013-01-05</td>\n",
              "      <td>2013</td>\n",
              "    </tr>\n",
              "    <tr>\n",
              "      <th>8501</th>\n",
              "      <td>Computers</td>\n",
              "      <td>3359.200</td>\n",
              "      <td>2/1/2013</td>\n",
              "      <td>2013-01-02</td>\n",
              "      <td>2013</td>\n",
              "    </tr>\n",
              "    <tr>\n",
              "      <th>8511</th>\n",
              "      <td>Computers</td>\n",
              "      <td>636.480</td>\n",
              "      <td>1/1/2013</td>\n",
              "      <td>2013-01-01</td>\n",
              "      <td>2013</td>\n",
              "    </tr>\n",
              "  </tbody>\n",
              "</table>\n",
              "<p>311 rows × 5 columns</p>\n",
              "</div>"
            ],
            "text/plain": [
              "     prod_subcat  total_amt   tran_date       Date  Year\n",
              "1089   Computers  -6073.080  30-12-2013 2013-12-30  2013\n",
              "1090   Computers   4583.540  30-12-2013 2013-12-30  2013\n",
              "1103   Computers   2813.330  30-12-2013 2013-12-30  2013\n",
              "1111   Computers   5432.180  29-12-2013 2013-12-29  2013\n",
              "1131   Computers   6073.080  28-12-2013 2013-12-28  2013\n",
              "...          ...        ...         ...        ...   ...\n",
              "8400   Computers   1074.060    6/1/2013 2013-01-06  2013\n",
              "8429   Computers   1359.150    5/1/2013 2013-01-05  2013\n",
              "8433   Computers   4425.525    5/1/2013 2013-01-05  2013\n",
              "8501   Computers   3359.200    2/1/2013 2013-01-02  2013\n",
              "8511   Computers    636.480    1/1/2013 2013-01-01  2013\n",
              "\n",
              "[311 rows x 5 columns]"
            ]
          },
          "metadata": {
            "tags": []
          },
          "execution_count": 16
        }
      ]
    },
    {
      "cell_type": "code",
      "metadata": {
        "colab": {
          "base_uri": "https://localhost:8080/"
        },
        "id": "RofqdDkvYCec",
        "outputId": "94af174d-199b-447a-ae15-bdd166e5f7af"
      },
      "source": [
        "# Prueba de hipótesis de diferencias de medias poblacionales, con una significancia de 5%\n",
        "\n",
        "z_score, p_valor = sm.stats.ztest(computadores_2011['total_amt'], \n",
        "                                  computadores_2013['total_amt'],         \n",
        "                                  value=0,                \n",
        "                                  alternative='two-sided' \n",
        "                                  )\n",
        "print(f\"Estadístico: {z_score}\\np-valor: {p_valor}\")"
      ],
      "execution_count": null,
      "outputs": [
        {
          "output_type": "stream",
          "text": [
            "Estadístico: 0.13569777891627272\n",
            "p-valor: 0.8920602036478242\n"
          ],
          "name": "stdout"
        }
      ]
    },
    {
      "cell_type": "markdown",
      "metadata": {
        "id": "VEBMPoT4aN2i"
      },
      "source": [
        "Del análisis realizado previamente, se observa que el p-value no es menor que el nivel de significancia elegido, no hay evidencia suficiente en los datos como para rechazar la hipótesis nula (Ho: No hay diferencia en el ingreso por computadores en los años 2011 y 2013). Por lo que se podría realizar un cambio en la estrategia utilizada por la tienda hasta el momento para publicitar sus computadores."
      ]
    },
    {
      "cell_type": "markdown",
      "metadata": {
        "id": "qJvfT5BsqKHV"
      },
      "source": [
        "####**4.6. ¿Hay alguna correlación entre las ventas de artículos de tecnología de audio y video y artículos de mobiliario?**\n",
        "---\n",
        "La tienda quiere saber si existe alguna relación entre las ventas de artículos de audio y video y artículos de mobiliario. Se procede a crear un dataframe donde se ordenarán las ventas de audio y video y mobiliario por días, si en algún día en particular no se vendieron artículos de ambas subcategorías, se eliminará ese día en cuestión."
      ]
    },
    {
      "cell_type": "code",
      "metadata": {
        "colab": {
          "base_uri": "https://localhost:8080/"
        },
        "id": "7peHj1POWp-k",
        "outputId": "1a849fea-acf0-4d08-c3a7-e9f240e05bec"
      },
      "source": [
        "audio_video = transacciones.loc[transacciones['prod_subcat'] == 'Audio and video',\n",
        "                                ['tran_date','prod_subcat','total_amt']]\n",
        "audio_video.info()"
      ],
      "execution_count": null,
      "outputs": [
        {
          "output_type": "stream",
          "text": [
            "<class 'pandas.core.frame.DataFrame'>\n",
            "Int64Index: 951 entries, 27 to 23020\n",
            "Data columns (total 3 columns):\n",
            " #   Column       Non-Null Count  Dtype  \n",
            "---  ------       --------------  -----  \n",
            " 0   tran_date    951 non-null    object \n",
            " 1   prod_subcat  951 non-null    object \n",
            " 2   total_amt    951 non-null    float64\n",
            "dtypes: float64(1), object(2)\n",
            "memory usage: 29.7+ KB\n"
          ],
          "name": "stdout"
        }
      ]
    },
    {
      "cell_type": "code",
      "metadata": {
        "colab": {
          "base_uri": "https://localhost:8080/"
        },
        "id": "SIjtgA8edeMh",
        "outputId": "960920b3-0498-45a9-8c7b-1cde8a0c3be0"
      },
      "source": [
        "mobiliario = transacciones.loc[transacciones['prod_subcat'] == 'Furnishing',\n",
        "                               ['tran_date','prod_subcat','total_amt']]\n",
        "mobiliario.info()"
      ],
      "execution_count": null,
      "outputs": [
        {
          "output_type": "stream",
          "text": [
            "<class 'pandas.core.frame.DataFrame'>\n",
            "Int64Index: 1006 entries, 48 to 23050\n",
            "Data columns (total 3 columns):\n",
            " #   Column       Non-Null Count  Dtype  \n",
            "---  ------       --------------  -----  \n",
            " 0   tran_date    1006 non-null   object \n",
            " 1   prod_subcat  1006 non-null   object \n",
            " 2   total_amt    1006 non-null   float64\n",
            "dtypes: float64(1), object(2)\n",
            "memory usage: 31.4+ KB\n"
          ],
          "name": "stdout"
        }
      ]
    },
    {
      "cell_type": "code",
      "metadata": {
        "colab": {
          "base_uri": "https://localhost:8080/"
        },
        "id": "QpHIV2y5nsAL",
        "outputId": "3001532b-246a-4828-ce4a-d68e5b0fe438"
      },
      "source": [
        "correlacion = audio_video.merge(mobiliario,\n",
        "                                on='tran_date',\n",
        "                                how='left')\n",
        "correlacion.info()"
      ],
      "execution_count": null,
      "outputs": [
        {
          "output_type": "stream",
          "text": [
            "<class 'pandas.core.frame.DataFrame'>\n",
            "Int64Index: 1237 entries, 0 to 1236\n",
            "Data columns (total 5 columns):\n",
            " #   Column         Non-Null Count  Dtype  \n",
            "---  ------         --------------  -----  \n",
            " 0   tran_date      1237 non-null   object \n",
            " 1   prod_subcat_x  1237 non-null   object \n",
            " 2   total_amt_x    1237 non-null   float64\n",
            " 3   prod_subcat_y  876 non-null    object \n",
            " 4   total_amt_y    876 non-null    float64\n",
            "dtypes: float64(2), object(3)\n",
            "memory usage: 58.0+ KB\n"
          ],
          "name": "stdout"
        }
      ]
    },
    {
      "cell_type": "markdown",
      "metadata": {
        "id": "jE65m5E-sReM"
      },
      "source": [
        "En el resumen de la información suministrada del dataset \"correlación\" se puede ver que en hay una menor cantidad de días en las que se compran elementos de la subcategoría 'mobiliario', así que se eliminarán las filas con valores NaN para poder hacer el análisis de correlación."
      ]
    },
    {
      "cell_type": "code",
      "metadata": {
        "colab": {
          "base_uri": "https://localhost:8080/"
        },
        "id": "zRjgoKY1ru8l",
        "outputId": "3bc7be6e-2227-4e7c-ae41-1736a2b9e8eb"
      },
      "source": [
        "correlacion.drop(correlacion[correlacion['total_amt_y'].isna()].index, \n",
        "                   inplace=True)\n",
        "correlacion.info()"
      ],
      "execution_count": null,
      "outputs": [
        {
          "output_type": "stream",
          "text": [
            "<class 'pandas.core.frame.DataFrame'>\n",
            "Int64Index: 876 entries, 2 to 1234\n",
            "Data columns (total 5 columns):\n",
            " #   Column         Non-Null Count  Dtype  \n",
            "---  ------         --------------  -----  \n",
            " 0   tran_date      876 non-null    object \n",
            " 1   prod_subcat_x  876 non-null    object \n",
            " 2   total_amt_x    876 non-null    float64\n",
            " 3   prod_subcat_y  876 non-null    object \n",
            " 4   total_amt_y    876 non-null    float64\n",
            "dtypes: float64(2), object(3)\n",
            "memory usage: 41.1+ KB\n"
          ],
          "name": "stdout"
        }
      ]
    },
    {
      "cell_type": "markdown",
      "metadata": {
        "id": "wOkP_HFrOxKS"
      },
      "source": [
        "Los días con transacciones negativas (devoluciones) tampoco se tendrá en cuenta, ya que no es el objetivo del análisis en cuestión"
      ]
    },
    {
      "cell_type": "code",
      "metadata": {
        "colab": {
          "base_uri": "https://localhost:8080/"
        },
        "id": "vA80v-ZDuE8k",
        "outputId": "38ac14b3-54cd-4866-febb-020449a01f5f"
      },
      "source": [
        "correlacion.drop(correlacion[correlacion['total_amt_x']<0].index, inplace=True)\n",
        "correlacion.drop(correlacion[correlacion['total_amt_y']<0].index, inplace=True)\n",
        "correlacion.info()"
      ],
      "execution_count": null,
      "outputs": [
        {
          "output_type": "stream",
          "text": [
            "<class 'pandas.core.frame.DataFrame'>\n",
            "Int64Index: 727 entries, 2 to 1234\n",
            "Data columns (total 5 columns):\n",
            " #   Column         Non-Null Count  Dtype  \n",
            "---  ------         --------------  -----  \n",
            " 0   tran_date      727 non-null    object \n",
            " 1   prod_subcat_x  727 non-null    object \n",
            " 2   total_amt_x    727 non-null    float64\n",
            " 3   prod_subcat_y  727 non-null    object \n",
            " 4   total_amt_y    727 non-null    float64\n",
            "dtypes: float64(2), object(3)\n",
            "memory usage: 34.1+ KB\n"
          ],
          "name": "stdout"
        }
      ]
    },
    {
      "cell_type": "code",
      "metadata": {
        "colab": {
          "base_uri": "https://localhost:8080/",
          "height": 312
        },
        "id": "338YjE3rtXYw",
        "outputId": "68d7ae6b-8aae-4c33-c172-0337c12f0db7"
      },
      "source": [
        "#Creación de la gráfica (scatterplot) entre las ventas de audios y video y mobiliario\n",
        "\n",
        "graf_corr = sns.scatterplot(data=correlacion,\n",
        "                            x='total_amt_x',\n",
        "                            y='total_amt_y',\n",
        "                            color='red')\n",
        "graf_corr.set(xlabel='Ventas de Audio y Video ($)',\n",
        "              ylabel='Ventas Mobiliario ($)',\n",
        "              title='Mobiliario vs Audio y Video')\n",
        "graf_corr"
      ],
      "execution_count": null,
      "outputs": [
        {
          "output_type": "execute_result",
          "data": {
            "text/plain": [
              "<matplotlib.axes._subplots.AxesSubplot at 0x7f866b204dd0>"
            ]
          },
          "metadata": {
            "tags": []
          },
          "execution_count": 65
        },
        {
          "output_type": "display_data",
          "data": {
            "image/png": "[encoded data removed]",
            "text/plain": [
              "<Figure size 432x288 with 1 Axes>"
            ]
          },
          "metadata": {
            "tags": []
          }
        }
      ]
    },
    {
      "cell_type": "code",
      "metadata": {
        "colab": {
          "base_uri": "https://localhost:8080/"
        },
        "id": "_cp81WFjvgkR",
        "outputId": "38de5955-cb39-4ff1-a828-0d74f99d7569"
      },
      "source": [
        "coef_corr = correlacion['total_amt_x'].corr(correlacion['total_amt_y'])\n",
        "coef_corr"
      ],
      "execution_count": null,
      "outputs": [
        {
          "output_type": "execute_result",
          "data": {
            "text/plain": [
              "0.02840115489528886"
            ]
          },
          "metadata": {
            "tags": []
          },
          "execution_count": 32
        }
      ]
    },
    {
      "cell_type": "markdown",
      "metadata": {
        "id": "lkEQxea4v7f4"
      },
      "source": [
        "El análisis de correlación anterior muestra un coeficiente de correlación de 0.028, el cual está muy cercano a cero, lo cual indica que no hay correlación alguna entre las ventas de artículos de Audio y video con artículos de Mobiliario."
      ]
    },
    {
      "cell_type": "markdown",
      "metadata": {
        "id": "wCJgMVp7PY_X"
      },
      "source": [
        "Sin embargo, puede obtenerse una conclusión a partir de otro tipo de gráfica. Si se quisiera ver qué valor de venta se ha presentado una mayor cantidad de días se puede optar por una gráfica jointplot (kind=\"hex\")."
      ]
    },
    {
      "cell_type": "code",
      "metadata": {
        "colab": {
          "base_uri": "https://localhost:8080/",
          "height": 460
        },
        "id": "j3w_VCkByi7q",
        "outputId": "6887b8c7-9627-48b8-b057-f8422084d089"
      },
      "source": [
        "graf_corr_2 = sns.jointplot(x=correlacion['total_amt_x'], \n",
        "                            y=correlacion['total_amt_y'], \n",
        "                            kind=\"hex\", \n",
        "                            color='green')\n",
        "graf_corr_2.set_axis_labels('Ventas de Audio y Video ($)',\n",
        "              'Ventas Mobiliario ($)')\n",
        "graf_corr_2.fig.suptitle(\"Mobiliario vs Audio y Video\")\n",
        "graf_corr_2"
      ],
      "execution_count": null,
      "outputs": [
        {
          "output_type": "execute_result",
          "data": {
            "text/plain": [
              "<seaborn.axisgrid.JointGrid at 0x7f866b2b45d0>"
            ]
          },
          "metadata": {
            "tags": []
          },
          "execution_count": 66
        },
        {
          "output_type": "display_data",
          "data": {
            "image/png": "[encoded data removed]",
            "text/plain": [
              "<Figure size 432x432 with 3 Axes>"
            ]
          },
          "metadata": {
            "tags": []
          }
        }
      ]
    },
    {
      "cell_type": "markdown",
      "metadata": {
        "id": "1nNZNW782KRo"
      },
      "source": [
        "En el jointplot anterior se evidencia una alta concentración de días donde las ventas de ambas subcategorías (audio y video y mobiliario) están entre los valores de \\$1000 y \\$2000 dólares. Esto puede ser un buen indicio para crear promociones de productos de ambas categorías. "
      ]
    },
    {
      "cell_type": "markdown",
      "metadata": {
        "id": "0kk53GteShYC"
      },
      "source": [
        "####**4.7. ¿Cuál es la ciudad que menos compra en Flagship stores?**\n",
        "---\n",
        "Para concluir el proeycto, dentro del sin fin de análisis posibles por hacer, se quiere conocer cuál ciudad genera la menos cantidad de ventas en total y si este valor total de ventas es significativamente menor que el promerio de las demás ciudades."
      ]
    },
    {
      "cell_type": "code",
      "metadata": {
        "colab": {
          "base_uri": "https://localhost:8080/"
        },
        "id": "Y48-kCYbG0Be",
        "outputId": "90ceed77-b311-4115-972c-10a65a19b49e"
      },
      "source": [
        "# Creación de un dataframe a partir de un groupby para visualizar rápidamente los valores requeridos en el análisis\n",
        "\n",
        "flagship = transacciones.loc[transacciones['Store_type'] == 'Flagship store']\n",
        "flagship.info()"
      ],
      "execution_count": null,
      "outputs": [
        {
          "output_type": "stream",
          "text": [
            "<class 'pandas.core.frame.DataFrame'>\n",
            "Int64Index: 4575 entries, 17 to 23039\n",
            "Data columns (total 15 columns):\n",
            " #   Column            Non-Null Count  Dtype  \n",
            "---  ------            --------------  -----  \n",
            " 0   transaction_id    4575 non-null   int64  \n",
            " 1   cust_id           4575 non-null   int64  \n",
            " 2   tran_date         4575 non-null   object \n",
            " 3   prod_subcat_code  4575 non-null   int64  \n",
            " 4   prod_cat_code     4575 non-null   int64  \n",
            " 5   Qty               4575 non-null   int64  \n",
            " 6   Rate              4575 non-null   int64  \n",
            " 7   Tax               4575 non-null   float64\n",
            " 8   total_amt         4575 non-null   float64\n",
            " 9   Store_type        4575 non-null   object \n",
            " 10  Age               4575 non-null   int64  \n",
            " 11  Gender            4575 non-null   object \n",
            " 12  city_code         4575 non-null   float64\n",
            " 13  prod_cat          4575 non-null   object \n",
            " 14  prod_subcat       4575 non-null   object \n",
            "dtypes: float64(3), int64(7), object(5)\n",
            "memory usage: 571.9+ KB\n"
          ],
          "name": "stdout"
        }
      ]
    },
    {
      "cell_type": "code",
      "metadata": {
        "colab": {
          "base_uri": "https://localhost:8080/",
          "height": 390
        },
        "id": "tg1yp0oZZoII",
        "outputId": "ce4c4593-64f2-4fb8-e8ca-c7eb3b24a239"
      },
      "source": [
        "ingresos_ciudades = flagship.groupby('city_code').agg({'total_amt': np.mean})\n",
        "ingresos_ciudades"
      ],
      "execution_count": null,
      "outputs": [
        {
          "output_type": "execute_result",
          "data": {
            "text/html": [
              "<div>\n",
              "<style scoped>\n",
              "    .dataframe tbody tr th:only-of-type {\n",
              "        vertical-align: middle;\n",
              "    }\n",
              "\n",
              "    .dataframe tbody tr th {\n",
              "        vertical-align: top;\n",
              "    }\n",
              "\n",
              "    .dataframe thead th {\n",
              "        text-align: right;\n",
              "    }\n",
              "</style>\n",
              "<table border=\"1\" class=\"dataframe\">\n",
              "  <thead>\n",
              "    <tr style=\"text-align: right;\">\n",
              "      <th></th>\n",
              "      <th>total_amt</th>\n",
              "    </tr>\n",
              "    <tr>\n",
              "      <th>city_code</th>\n",
              "      <th></th>\n",
              "    </tr>\n",
              "  </thead>\n",
              "  <tbody>\n",
              "    <tr>\n",
              "      <th>1.0</th>\n",
              "      <td>2010.338940</td>\n",
              "    </tr>\n",
              "    <tr>\n",
              "      <th>2.0</th>\n",
              "      <td>2099.085926</td>\n",
              "    </tr>\n",
              "    <tr>\n",
              "      <th>3.0</th>\n",
              "      <td>2374.112713</td>\n",
              "    </tr>\n",
              "    <tr>\n",
              "      <th>4.0</th>\n",
              "      <td>2080.334708</td>\n",
              "    </tr>\n",
              "    <tr>\n",
              "      <th>5.0</th>\n",
              "      <td>2056.803686</td>\n",
              "    </tr>\n",
              "    <tr>\n",
              "      <th>6.0</th>\n",
              "      <td>2075.518514</td>\n",
              "    </tr>\n",
              "    <tr>\n",
              "      <th>7.0</th>\n",
              "      <td>2177.955000</td>\n",
              "    </tr>\n",
              "    <tr>\n",
              "      <th>8.0</th>\n",
              "      <td>2028.318974</td>\n",
              "    </tr>\n",
              "    <tr>\n",
              "      <th>9.0</th>\n",
              "      <td>2102.067924</td>\n",
              "    </tr>\n",
              "    <tr>\n",
              "      <th>10.0</th>\n",
              "      <td>2199.807860</td>\n",
              "    </tr>\n",
              "  </tbody>\n",
              "</table>\n",
              "</div>"
            ],
            "text/plain": [
              "             total_amt\n",
              "city_code             \n",
              "1.0        2010.338940\n",
              "2.0        2099.085926\n",
              "3.0        2374.112713\n",
              "4.0        2080.334708\n",
              "5.0        2056.803686\n",
              "6.0        2075.518514\n",
              "7.0        2177.955000\n",
              "8.0        2028.318974\n",
              "9.0        2102.067924\n",
              "10.0       2199.807860"
            ]
          },
          "metadata": {
            "tags": []
          },
          "execution_count": 68
        }
      ]
    },
    {
      "cell_type": "code",
      "metadata": {
        "colab": {
          "base_uri": "https://localhost:8080/",
          "height": 313
        },
        "id": "mHnz894FH2cY",
        "outputId": "bd1e14f2-65e5-4fe6-e861-0b95f82e1b75"
      },
      "source": [
        "graf_ciudades = sns.barplot(data=flagship,\n",
        "                            x='city_code',\n",
        "                            y='total_amt',\n",
        "                            palette='flare')\n",
        "graf_ciudades.set(xlabel='Código de la ciudad',\n",
        "                  ylabel='Ventas totales ($)',\n",
        "                  title='Ventas totales vs código de ciudad')\n",
        "graf_ciudades"
      ],
      "execution_count": null,
      "outputs": [
        {
          "output_type": "execute_result",
          "data": {
            "text/plain": [
              "<matplotlib.axes._subplots.AxesSubplot at 0x7f866a964410>"
            ]
          },
          "metadata": {
            "tags": []
          },
          "execution_count": 76
        },
        {
          "output_type": "display_data",
          "data": {
            "image/png": "[encoded data removed]",
            "text/plain": [
              "<Figure size 432x288 with 1 Axes>"
            ]
          },
          "metadata": {
            "tags": []
          }
        }
      ]
    },
    {
      "cell_type": "code",
      "metadata": {
        "colab": {
          "base_uri": "https://localhost:8080/"
        },
        "id": "AKhL3x7nKwlG",
        "outputId": "df381bb9-e88c-44af-cd21-0a0d89118e21"
      },
      "source": [
        "ciudad_min = ingresos_ciudades['total_amt'].min()\n",
        "ciudad_min"
      ],
      "execution_count": null,
      "outputs": [
        {
          "output_type": "execute_result",
          "data": {
            "text/plain": [
              "2010.3389403973501"
            ]
          },
          "metadata": {
            "tags": []
          },
          "execution_count": 15
        }
      ]
    },
    {
      "cell_type": "code",
      "metadata": {
        "colab": {
          "base_uri": "https://localhost:8080/"
        },
        "id": "vL2eJQl7YMH-",
        "outputId": "3661ff8d-b224-4b27-846f-4765c1db8629"
      },
      "source": [
        "ciudad_min_code = ingresos_ciudades.loc[ingresos_ciudades['total_amt'] == ciudad_min].index[0]\n",
        "ciudad_min_code"
      ],
      "execution_count": null,
      "outputs": [
        {
          "output_type": "execute_result",
          "data": {
            "text/plain": [
              "1.0"
            ]
          },
          "metadata": {
            "tags": []
          },
          "execution_count": 16
        }
      ]
    },
    {
      "cell_type": "markdown",
      "metadata": {
        "id": "0GT0ecvFYO_W"
      },
      "source": [
        "La ciudad que genera el menor ingreso en promedio por ventas a través de Flagship stores es la de código 1.0. Para saber si este valor promedio es significativamente menor al promedio de las demás ciudades, se realizará una prueba de hipótesis."
      ]
    },
    {
      "cell_type": "code",
      "metadata": {
        "colab": {
          "base_uri": "https://localhost:8080/",
          "height": 419
        },
        "id": "Qw3Xmi3djyVH",
        "outputId": "9ba43e69-cb89-46e4-9673-be370dcf9421"
      },
      "source": [
        "ciudad_1 = flagship.loc[flagship['city_code']==1.0,['total_amt']]\n",
        "ciudad_1"
      ],
      "execution_count": null,
      "outputs": [
        {
          "output_type": "execute_result",
          "data": {
            "text/html": [
              "<div>\n",
              "<style scoped>\n",
              "    .dataframe tbody tr th:only-of-type {\n",
              "        vertical-align: middle;\n",
              "    }\n",
              "\n",
              "    .dataframe tbody tr th {\n",
              "        vertical-align: top;\n",
              "    }\n",
              "\n",
              "    .dataframe thead th {\n",
              "        text-align: right;\n",
              "    }\n",
              "</style>\n",
              "<table border=\"1\" class=\"dataframe\">\n",
              "  <thead>\n",
              "    <tr style=\"text-align: right;\">\n",
              "      <th></th>\n",
              "      <th>total_amt</th>\n",
              "    </tr>\n",
              "  </thead>\n",
              "  <tbody>\n",
              "    <tr>\n",
              "      <th>52</th>\n",
              "      <td>1697.280</td>\n",
              "    </tr>\n",
              "    <tr>\n",
              "      <th>90</th>\n",
              "      <td>1980.160</td>\n",
              "    </tr>\n",
              "    <tr>\n",
              "      <th>115</th>\n",
              "      <td>5631.080</td>\n",
              "    </tr>\n",
              "    <tr>\n",
              "      <th>172</th>\n",
              "      <td>1905.020</td>\n",
              "    </tr>\n",
              "    <tr>\n",
              "      <th>185</th>\n",
              "      <td>4831.060</td>\n",
              "    </tr>\n",
              "    <tr>\n",
              "      <th>...</th>\n",
              "      <td>...</td>\n",
              "    </tr>\n",
              "    <tr>\n",
              "      <th>22896</th>\n",
              "      <td>433.160</td>\n",
              "    </tr>\n",
              "    <tr>\n",
              "      <th>22899</th>\n",
              "      <td>-1303.900</td>\n",
              "    </tr>\n",
              "    <tr>\n",
              "      <th>22950</th>\n",
              "      <td>3158.090</td>\n",
              "    </tr>\n",
              "    <tr>\n",
              "      <th>22998</th>\n",
              "      <td>1303.900</td>\n",
              "    </tr>\n",
              "    <tr>\n",
              "      <th>23012</th>\n",
              "      <td>1466.335</td>\n",
              "    </tr>\n",
              "  </tbody>\n",
              "</table>\n",
              "<p>453 rows × 1 columns</p>\n",
              "</div>"
            ],
            "text/plain": [
              "       total_amt\n",
              "52      1697.280\n",
              "90      1980.160\n",
              "115     5631.080\n",
              "172     1905.020\n",
              "185     4831.060\n",
              "...          ...\n",
              "22896    433.160\n",
              "22899  -1303.900\n",
              "22950   3158.090\n",
              "22998   1303.900\n",
              "23012   1466.335\n",
              "\n",
              "[453 rows x 1 columns]"
            ]
          },
          "metadata": {
            "tags": []
          },
          "execution_count": 151
        }
      ]
    },
    {
      "cell_type": "code",
      "metadata": {
        "colab": {
          "base_uri": "https://localhost:8080/",
          "height": 419
        },
        "id": "uniptHoCk50h",
        "outputId": "888741de-757c-43d9-c5e6-e3f3bf25f4a7"
      },
      "source": [
        "ciudades_restantes = flagship.loc[flagship['city_code']!=1.0,['total_amt']]\n",
        "ciudades_restantes"
      ],
      "execution_count": null,
      "outputs": [
        {
          "output_type": "execute_result",
          "data": {
            "text/html": [
              "<div>\n",
              "<style scoped>\n",
              "    .dataframe tbody tr th:only-of-type {\n",
              "        vertical-align: middle;\n",
              "    }\n",
              "\n",
              "    .dataframe tbody tr th {\n",
              "        vertical-align: top;\n",
              "    }\n",
              "\n",
              "    .dataframe thead th {\n",
              "        text-align: right;\n",
              "    }\n",
              "</style>\n",
              "<table border=\"1\" class=\"dataframe\">\n",
              "  <thead>\n",
              "    <tr style=\"text-align: right;\">\n",
              "      <th></th>\n",
              "      <th>total_amt</th>\n",
              "    </tr>\n",
              "  </thead>\n",
              "  <tbody>\n",
              "    <tr>\n",
              "      <th>17</th>\n",
              "      <td>1664.130</td>\n",
              "    </tr>\n",
              "    <tr>\n",
              "      <th>29</th>\n",
              "      <td>106.080</td>\n",
              "    </tr>\n",
              "    <tr>\n",
              "      <th>39</th>\n",
              "      <td>7514.000</td>\n",
              "    </tr>\n",
              "    <tr>\n",
              "      <th>41</th>\n",
              "      <td>889.525</td>\n",
              "    </tr>\n",
              "    <tr>\n",
              "      <th>42</th>\n",
              "      <td>1124.890</td>\n",
              "    </tr>\n",
              "    <tr>\n",
              "      <th>...</th>\n",
              "      <td>...</td>\n",
              "    </tr>\n",
              "    <tr>\n",
              "      <th>23023</th>\n",
              "      <td>1064.115</td>\n",
              "    </tr>\n",
              "    <tr>\n",
              "      <th>23027</th>\n",
              "      <td>1629.875</td>\n",
              "    </tr>\n",
              "    <tr>\n",
              "      <th>23030</th>\n",
              "      <td>3739.320</td>\n",
              "    </tr>\n",
              "    <tr>\n",
              "      <th>23033</th>\n",
              "      <td>304.980</td>\n",
              "    </tr>\n",
              "    <tr>\n",
              "      <th>23039</th>\n",
              "      <td>3486.275</td>\n",
              "    </tr>\n",
              "  </tbody>\n",
              "</table>\n",
              "<p>4122 rows × 1 columns</p>\n",
              "</div>"
            ],
            "text/plain": [
              "       total_amt\n",
              "17      1664.130\n",
              "29       106.080\n",
              "39      7514.000\n",
              "41       889.525\n",
              "42      1124.890\n",
              "...          ...\n",
              "23023   1064.115\n",
              "23027   1629.875\n",
              "23030   3739.320\n",
              "23033    304.980\n",
              "23039   3486.275\n",
              "\n",
              "[4122 rows x 1 columns]"
            ]
          },
          "metadata": {
            "tags": []
          },
          "execution_count": 152
        }
      ]
    },
    {
      "cell_type": "code",
      "metadata": {
        "colab": {
          "base_uri": "https://localhost:8080/"
        },
        "id": "WmAKloupja0R",
        "outputId": "a861ea07-ef49-4298-890d-183840bfe28f"
      },
      "source": [
        "# Prueba de hipótesis de diferencias de medias poblacionales, con una significancia de 5%\n",
        "\n",
        "z_score, p_valor = sm.stats.ztest(ciudad_1, \n",
        "                                  ciudades_restantes,         \n",
        "                                  value=0,                \n",
        "                                  alternative='two-sided' \n",
        "                                  )\n",
        "print(f\"Estadístico: {z_score}\\np-valor: {p_valor}\")"
      ],
      "execution_count": null,
      "outputs": [
        {
          "output_type": "stream",
          "text": [
            "Estadístico: [-1.00027973]\n",
            "p-valor: [0.31717515]\n"
          ],
          "name": "stdout"
        }
      ]
    },
    {
      "cell_type": "markdown",
      "metadata": {
        "id": "jqD7dlY6nmDw"
      },
      "source": [
        "Como el p-value obtenido es mayor que el nive de significancia obtenido, no hay evidencia suficiente para rechazar la hipótesis nula en favor de la alternativa. Siendo la hipótesis nula: \"No existe diferencia entre la media de ingresos por ventas de la ciudad con el código 1.0 del resto de las ciudades. "
      ]
    },
    {
      "cell_type": "markdown",
      "metadata": {
        "id": "E79kX8zoV1V5"
      },
      "source": [
        "###**4.8. Visualización de las ventas totales por mes para los años 2011, 2012 y 2013**\n",
        "---\n",
        "Finalmente, a petición del gerente del banco se quiere obtener una gráfica dónde se visualizen los ingresos totales por mes de los años 2011, 2012 y 2013."
      ]
    },
    {
      "cell_type": "code",
      "metadata": {
        "colab": {
          "base_uri": "https://localhost:8080/",
          "height": 419
        },
        "id": "XvrUvrXGWYa6",
        "outputId": "2b638347-5bde-49d6-f9b9-49bba5a0cae1"
      },
      "source": [
        "# Se utilizará el dataframe \"prom_mes_mas_ventas\" creado en el numeral 4.1 para el desarrollo de este punto.\n",
        "\n",
        "prom_mes_mas_ventas"
      ],
      "execution_count": null,
      "outputs": [
        {
          "output_type": "execute_result",
          "data": {
            "text/html": [
              "<div>\n",
              "<style scoped>\n",
              "    .dataframe tbody tr th:only-of-type {\n",
              "        vertical-align: middle;\n",
              "    }\n",
              "\n",
              "    .dataframe tbody tr th {\n",
              "        vertical-align: top;\n",
              "    }\n",
              "\n",
              "    .dataframe thead th {\n",
              "        text-align: right;\n",
              "    }\n",
              "</style>\n",
              "<table border=\"1\" class=\"dataframe\">\n",
              "  <thead>\n",
              "    <tr style=\"text-align: right;\">\n",
              "      <th></th>\n",
              "      <th>total_amt</th>\n",
              "      <th>Date</th>\n",
              "      <th>Year</th>\n",
              "      <th>Month</th>\n",
              "      <th>Day</th>\n",
              "    </tr>\n",
              "  </thead>\n",
              "  <tbody>\n",
              "    <tr>\n",
              "      <th>1065</th>\n",
              "      <td>4375.800</td>\n",
              "      <td>2013-12-31</td>\n",
              "      <td>2013</td>\n",
              "      <td>12</td>\n",
              "      <td>31</td>\n",
              "    </tr>\n",
              "    <tr>\n",
              "      <th>1066</th>\n",
              "      <td>1164.670</td>\n",
              "      <td>2013-12-31</td>\n",
              "      <td>2013</td>\n",
              "      <td>12</td>\n",
              "      <td>31</td>\n",
              "    </tr>\n",
              "    <tr>\n",
              "      <th>1067</th>\n",
              "      <td>-838.695</td>\n",
              "      <td>2013-12-31</td>\n",
              "      <td>2013</td>\n",
              "      <td>12</td>\n",
              "      <td>31</td>\n",
              "    </tr>\n",
              "    <tr>\n",
              "      <th>1068</th>\n",
              "      <td>685.100</td>\n",
              "      <td>2013-12-31</td>\n",
              "      <td>2013</td>\n",
              "      <td>12</td>\n",
              "      <td>31</td>\n",
              "    </tr>\n",
              "    <tr>\n",
              "      <th>1069</th>\n",
              "      <td>2794.545</td>\n",
              "      <td>2013-12-31</td>\n",
              "      <td>2013</td>\n",
              "      <td>12</td>\n",
              "      <td>31</td>\n",
              "    </tr>\n",
              "    <tr>\n",
              "      <th>...</th>\n",
              "      <td>...</td>\n",
              "      <td>...</td>\n",
              "      <td>...</td>\n",
              "      <td>...</td>\n",
              "      <td>...</td>\n",
              "    </tr>\n",
              "    <tr>\n",
              "      <th>23048</th>\n",
              "      <td>1396.720</td>\n",
              "      <td>2011-01-25</td>\n",
              "      <td>2011</td>\n",
              "      <td>1</td>\n",
              "      <td>25</td>\n",
              "    </tr>\n",
              "    <tr>\n",
              "      <th>23049</th>\n",
              "      <td>748.085</td>\n",
              "      <td>2011-01-25</td>\n",
              "      <td>2011</td>\n",
              "      <td>1</td>\n",
              "      <td>25</td>\n",
              "    </tr>\n",
              "    <tr>\n",
              "      <th>23050</th>\n",
              "      <td>4649.840</td>\n",
              "      <td>2011-01-25</td>\n",
              "      <td>2011</td>\n",
              "      <td>1</td>\n",
              "      <td>25</td>\n",
              "    </tr>\n",
              "    <tr>\n",
              "      <th>23051</th>\n",
              "      <td>3785.730</td>\n",
              "      <td>2011-01-25</td>\n",
              "      <td>2011</td>\n",
              "      <td>1</td>\n",
              "      <td>25</td>\n",
              "    </tr>\n",
              "    <tr>\n",
              "      <th>23052</th>\n",
              "      <td>493.935</td>\n",
              "      <td>2011-01-25</td>\n",
              "      <td>2011</td>\n",
              "      <td>1</td>\n",
              "      <td>25</td>\n",
              "    </tr>\n",
              "  </tbody>\n",
              "</table>\n",
              "<p>21988 rows × 5 columns</p>\n",
              "</div>"
            ],
            "text/plain": [
              "       total_amt       Date  Year  Month  Day\n",
              "1065    4375.800 2013-12-31  2013     12   31\n",
              "1066    1164.670 2013-12-31  2013     12   31\n",
              "1067    -838.695 2013-12-31  2013     12   31\n",
              "1068     685.100 2013-12-31  2013     12   31\n",
              "1069    2794.545 2013-12-31  2013     12   31\n",
              "...          ...        ...   ...    ...  ...\n",
              "23048   1396.720 2011-01-25  2011      1   25\n",
              "23049    748.085 2011-01-25  2011      1   25\n",
              "23050   4649.840 2011-01-25  2011      1   25\n",
              "23051   3785.730 2011-01-25  2011      1   25\n",
              "23052    493.935 2011-01-25  2011      1   25\n",
              "\n",
              "[21988 rows x 5 columns]"
            ]
          },
          "metadata": {
            "tags": []
          },
          "execution_count": 21
        }
      ]
    },
    {
      "cell_type": "markdown",
      "metadata": {
        "id": "BafQ33IOgGrz"
      },
      "source": [
        "A partir del dataset anterior, se crearán 3 dataset para ls años 2011, 2012 y 2013 para extraer únicamente la información de interés, la cual es el total de ingresos por venta, el mes de la venta y el año a evaluar."
      ]
    },
    {
      "cell_type": "code",
      "metadata": {
        "colab": {
          "base_uri": "https://localhost:8080/"
        },
        "id": "4hqZ-W7nV59y",
        "outputId": "22c25103-c1ee-485b-f157-920a5f6e84aa"
      },
      "source": [
        "ingresos_2011 = prom_mes_mas_ventas.loc[prom_mes_mas_ventas['Year']==2011]\n",
        "ingresos_2011.info()"
      ],
      "execution_count": null,
      "outputs": [
        {
          "output_type": "stream",
          "text": [
            "<class 'pandas.core.frame.DataFrame'>\n",
            "Int64Index: 6991 entries, 16062 to 23052\n",
            "Data columns (total 5 columns):\n",
            " #   Column     Non-Null Count  Dtype         \n",
            "---  ------     --------------  -----         \n",
            " 0   total_amt  6991 non-null   float64       \n",
            " 1   Date       6991 non-null   datetime64[ns]\n",
            " 2   Year       6991 non-null   int64         \n",
            " 3   Month      6991 non-null   int64         \n",
            " 4   Day        6991 non-null   int64         \n",
            "dtypes: datetime64[ns](1), float64(1), int64(3)\n",
            "memory usage: 327.7 KB\n"
          ],
          "name": "stdout"
        }
      ]
    },
    {
      "cell_type": "code",
      "metadata": {
        "colab": {
          "base_uri": "https://localhost:8080/",
          "height": 452
        },
        "id": "O6yV-nNWXcpN",
        "outputId": "495936ee-45ea-426b-a600-cc8f8aacab68"
      },
      "source": [
        "ingresos_mes_2011 = ingresos_2011.groupby('Month').agg({'total_amt': sum})\n",
        "ingresos_mes_2011"
      ],
      "execution_count": null,
      "outputs": [
        {
          "output_type": "execute_result",
          "data": {
            "text/html": [
              "<div>\n",
              "<style scoped>\n",
              "    .dataframe tbody tr th:only-of-type {\n",
              "        vertical-align: middle;\n",
              "    }\n",
              "\n",
              "    .dataframe tbody tr th {\n",
              "        vertical-align: top;\n",
              "    }\n",
              "\n",
              "    .dataframe thead th {\n",
              "        text-align: right;\n",
              "    }\n",
              "</style>\n",
              "<table border=\"1\" class=\"dataframe\">\n",
              "  <thead>\n",
              "    <tr style=\"text-align: right;\">\n",
              "      <th></th>\n",
              "      <th>total_amt</th>\n",
              "    </tr>\n",
              "    <tr>\n",
              "      <th>Month</th>\n",
              "      <th></th>\n",
              "    </tr>\n",
              "  </thead>\n",
              "  <tbody>\n",
              "    <tr>\n",
              "      <th>1</th>\n",
              "      <td>337307.880</td>\n",
              "    </tr>\n",
              "    <tr>\n",
              "      <th>2</th>\n",
              "      <td>1087283.535</td>\n",
              "    </tr>\n",
              "    <tr>\n",
              "      <th>3</th>\n",
              "      <td>1376537.175</td>\n",
              "    </tr>\n",
              "    <tr>\n",
              "      <th>4</th>\n",
              "      <td>1379838.915</td>\n",
              "    </tr>\n",
              "    <tr>\n",
              "      <th>5</th>\n",
              "      <td>1174157.530</td>\n",
              "    </tr>\n",
              "    <tr>\n",
              "      <th>6</th>\n",
              "      <td>1221299.040</td>\n",
              "    </tr>\n",
              "    <tr>\n",
              "      <th>7</th>\n",
              "      <td>1309300.135</td>\n",
              "    </tr>\n",
              "    <tr>\n",
              "      <th>8</th>\n",
              "      <td>1230637.395</td>\n",
              "    </tr>\n",
              "    <tr>\n",
              "      <th>9</th>\n",
              "      <td>1437136.480</td>\n",
              "    </tr>\n",
              "    <tr>\n",
              "      <th>10</th>\n",
              "      <td>1399860.410</td>\n",
              "    </tr>\n",
              "    <tr>\n",
              "      <th>11</th>\n",
              "      <td>1450866.105</td>\n",
              "    </tr>\n",
              "    <tr>\n",
              "      <th>12</th>\n",
              "      <td>1327391.195</td>\n",
              "    </tr>\n",
              "  </tbody>\n",
              "</table>\n",
              "</div>"
            ],
            "text/plain": [
              "         total_amt\n",
              "Month             \n",
              "1       337307.880\n",
              "2      1087283.535\n",
              "3      1376537.175\n",
              "4      1379838.915\n",
              "5      1174157.530\n",
              "6      1221299.040\n",
              "7      1309300.135\n",
              "8      1230637.395\n",
              "9      1437136.480\n",
              "10     1399860.410\n",
              "11     1450866.105\n",
              "12     1327391.195"
            ]
          },
          "metadata": {
            "tags": []
          },
          "execution_count": 28
        }
      ]
    },
    {
      "cell_type": "code",
      "metadata": {
        "colab": {
          "base_uri": "https://localhost:8080/"
        },
        "id": "OT0gu6W4Wl4a",
        "outputId": "b6506787-8cc5-4e4c-a44a-272d71863185"
      },
      "source": [
        "ingresos_2012 = prom_mes_mas_ventas.loc[prom_mes_mas_ventas['Year']==2012]\n",
        "ingresos_2012.info()"
      ],
      "execution_count": null,
      "outputs": [
        {
          "output_type": "stream",
          "text": [
            "<class 'pandas.core.frame.DataFrame'>\n",
            "Int64Index: 7541 entries, 8521 to 16061\n",
            "Data columns (total 5 columns):\n",
            " #   Column     Non-Null Count  Dtype         \n",
            "---  ------     --------------  -----         \n",
            " 0   total_amt  7541 non-null   float64       \n",
            " 1   Date       7541 non-null   datetime64[ns]\n",
            " 2   Year       7541 non-null   int64         \n",
            " 3   Month      7541 non-null   int64         \n",
            " 4   Day        7541 non-null   int64         \n",
            "dtypes: datetime64[ns](1), float64(1), int64(3)\n",
            "memory usage: 353.5 KB\n"
          ],
          "name": "stdout"
        }
      ]
    },
    {
      "cell_type": "code",
      "metadata": {
        "colab": {
          "base_uri": "https://localhost:8080/",
          "height": 452
        },
        "id": "qDtyiU47YFJv",
        "outputId": "22be80d4-1ea5-441e-9bc6-e1f126e1d8ba"
      },
      "source": [
        "ingresos_mes_2012 = ingresos_2012.groupby('Month').agg({'total_amt': sum})\n",
        "ingresos_mes_2012"
      ],
      "execution_count": null,
      "outputs": [
        {
          "output_type": "execute_result",
          "data": {
            "text/html": [
              "<div>\n",
              "<style scoped>\n",
              "    .dataframe tbody tr th:only-of-type {\n",
              "        vertical-align: middle;\n",
              "    }\n",
              "\n",
              "    .dataframe tbody tr th {\n",
              "        vertical-align: top;\n",
              "    }\n",
              "\n",
              "    .dataframe thead th {\n",
              "        text-align: right;\n",
              "    }\n",
              "</style>\n",
              "<table border=\"1\" class=\"dataframe\">\n",
              "  <thead>\n",
              "    <tr style=\"text-align: right;\">\n",
              "      <th></th>\n",
              "      <th>total_amt</th>\n",
              "    </tr>\n",
              "    <tr>\n",
              "      <th>Month</th>\n",
              "      <th></th>\n",
              "    </tr>\n",
              "  </thead>\n",
              "  <tbody>\n",
              "    <tr>\n",
              "      <th>1</th>\n",
              "      <td>1207435.710</td>\n",
              "    </tr>\n",
              "    <tr>\n",
              "      <th>2</th>\n",
              "      <td>1306702.280</td>\n",
              "    </tr>\n",
              "    <tr>\n",
              "      <th>3</th>\n",
              "      <td>1440357.555</td>\n",
              "    </tr>\n",
              "    <tr>\n",
              "      <th>4</th>\n",
              "      <td>1212981.705</td>\n",
              "    </tr>\n",
              "    <tr>\n",
              "      <th>5</th>\n",
              "      <td>1351045.930</td>\n",
              "    </tr>\n",
              "    <tr>\n",
              "      <th>6</th>\n",
              "      <td>1295998.145</td>\n",
              "    </tr>\n",
              "    <tr>\n",
              "      <th>7</th>\n",
              "      <td>1246654.370</td>\n",
              "    </tr>\n",
              "    <tr>\n",
              "      <th>8</th>\n",
              "      <td>1321288.280</td>\n",
              "    </tr>\n",
              "    <tr>\n",
              "      <th>9</th>\n",
              "      <td>1317662.775</td>\n",
              "    </tr>\n",
              "    <tr>\n",
              "      <th>10</th>\n",
              "      <td>1408005.365</td>\n",
              "    </tr>\n",
              "    <tr>\n",
              "      <th>11</th>\n",
              "      <td>1378302.965</td>\n",
              "    </tr>\n",
              "    <tr>\n",
              "      <th>12</th>\n",
              "      <td>1417278.525</td>\n",
              "    </tr>\n",
              "  </tbody>\n",
              "</table>\n",
              "</div>"
            ],
            "text/plain": [
              "         total_amt\n",
              "Month             \n",
              "1      1207435.710\n",
              "2      1306702.280\n",
              "3      1440357.555\n",
              "4      1212981.705\n",
              "5      1351045.930\n",
              "6      1295998.145\n",
              "7      1246654.370\n",
              "8      1321288.280\n",
              "9      1317662.775\n",
              "10     1408005.365\n",
              "11     1378302.965\n",
              "12     1417278.525"
            ]
          },
          "metadata": {
            "tags": []
          },
          "execution_count": 29
        }
      ]
    },
    {
      "cell_type": "code",
      "metadata": {
        "colab": {
          "base_uri": "https://localhost:8080/"
        },
        "id": "MSNqD1pPWnuz",
        "outputId": "11be181b-f553-4a3f-d745-113a086fed12"
      },
      "source": [
        "ingresos_2013 = prom_mes_mas_ventas.loc[prom_mes_mas_ventas['Year']==2013]\n",
        "ingresos_2013.info()"
      ],
      "execution_count": null,
      "outputs": [
        {
          "output_type": "stream",
          "text": [
            "<class 'pandas.core.frame.DataFrame'>\n",
            "Int64Index: 7456 entries, 1065 to 8520\n",
            "Data columns (total 5 columns):\n",
            " #   Column     Non-Null Count  Dtype         \n",
            "---  ------     --------------  -----         \n",
            " 0   total_amt  7456 non-null   float64       \n",
            " 1   Date       7456 non-null   datetime64[ns]\n",
            " 2   Year       7456 non-null   int64         \n",
            " 3   Month      7456 non-null   int64         \n",
            " 4   Day        7456 non-null   int64         \n",
            "dtypes: datetime64[ns](1), float64(1), int64(3)\n",
            "memory usage: 349.5 KB\n"
          ],
          "name": "stdout"
        }
      ]
    },
    {
      "cell_type": "code",
      "metadata": {
        "colab": {
          "base_uri": "https://localhost:8080/",
          "height": 452
        },
        "id": "iXN-DNCHYJFh",
        "outputId": "29b855b1-bb56-43cf-cff1-2b4719c524f8"
      },
      "source": [
        "ingresos_mes_2013 = ingresos_2013.groupby('Month').agg({'total_amt': sum})\n",
        "ingresos_mes_2013"
      ],
      "execution_count": null,
      "outputs": [
        {
          "output_type": "execute_result",
          "data": {
            "text/html": [
              "<div>\n",
              "<style scoped>\n",
              "    .dataframe tbody tr th:only-of-type {\n",
              "        vertical-align: middle;\n",
              "    }\n",
              "\n",
              "    .dataframe tbody tr th {\n",
              "        vertical-align: top;\n",
              "    }\n",
              "\n",
              "    .dataframe thead th {\n",
              "        text-align: right;\n",
              "    }\n",
              "</style>\n",
              "<table border=\"1\" class=\"dataframe\">\n",
              "  <thead>\n",
              "    <tr style=\"text-align: right;\">\n",
              "      <th></th>\n",
              "      <th>total_amt</th>\n",
              "    </tr>\n",
              "    <tr>\n",
              "      <th>Month</th>\n",
              "      <th></th>\n",
              "    </tr>\n",
              "  </thead>\n",
              "  <tbody>\n",
              "    <tr>\n",
              "      <th>1</th>\n",
              "      <td>1378639.990</td>\n",
              "    </tr>\n",
              "    <tr>\n",
              "      <th>2</th>\n",
              "      <td>1194731.525</td>\n",
              "    </tr>\n",
              "    <tr>\n",
              "      <th>3</th>\n",
              "      <td>1465626.695</td>\n",
              "    </tr>\n",
              "    <tr>\n",
              "      <th>4</th>\n",
              "      <td>1276018.640</td>\n",
              "    </tr>\n",
              "    <tr>\n",
              "      <th>5</th>\n",
              "      <td>1286049.830</td>\n",
              "    </tr>\n",
              "    <tr>\n",
              "      <th>6</th>\n",
              "      <td>1254308.705</td>\n",
              "    </tr>\n",
              "    <tr>\n",
              "      <th>7</th>\n",
              "      <td>1222970.905</td>\n",
              "    </tr>\n",
              "    <tr>\n",
              "      <th>8</th>\n",
              "      <td>1397714.500</td>\n",
              "    </tr>\n",
              "    <tr>\n",
              "      <th>9</th>\n",
              "      <td>1337621.285</td>\n",
              "    </tr>\n",
              "    <tr>\n",
              "      <th>10</th>\n",
              "      <td>1368587.805</td>\n",
              "    </tr>\n",
              "    <tr>\n",
              "      <th>11</th>\n",
              "      <td>1269408.530</td>\n",
              "    </tr>\n",
              "    <tr>\n",
              "      <th>12</th>\n",
              "      <td>1257120.930</td>\n",
              "    </tr>\n",
              "  </tbody>\n",
              "</table>\n",
              "</div>"
            ],
            "text/plain": [
              "         total_amt\n",
              "Month             \n",
              "1      1378639.990\n",
              "2      1194731.525\n",
              "3      1465626.695\n",
              "4      1276018.640\n",
              "5      1286049.830\n",
              "6      1254308.705\n",
              "7      1222970.905\n",
              "8      1397714.500\n",
              "9      1337621.285\n",
              "10     1368587.805\n",
              "11     1269408.530\n",
              "12     1257120.930"
            ]
          },
          "metadata": {
            "tags": []
          },
          "execution_count": 31
        }
      ]
    },
    {
      "cell_type": "markdown",
      "metadata": {
        "id": "N2TBXM9FglGM"
      },
      "source": [
        "A continuación se creará un dataframe donde se recopilará la información de los ingresos mensuales para cada uno de los años a evaluar. Y a partir de este dataframe se creará la gráfica solicitada."
      ]
    },
    {
      "cell_type": "code",
      "metadata": {
        "colab": {
          "base_uri": "https://localhost:8080/",
          "height": 452
        },
        "id": "NIQNLpvGY3nt",
        "outputId": "26dfd0d6-5aa4-4817-8d79-85c403ca3d76"
      },
      "source": [
        "ventas_por_año = ingresos_mes_2011.copy()\n",
        "ventas_por_año.rename({\n",
        "    'total_amt':'total_amt_2011'},\n",
        "    axis=1, inplace=True)\n",
        "ventas_por_año['total_amt_2012'] = ingresos_mes_2012['total_amt'].copy()\n",
        "ventas_por_año['total_amt_2013'] = ingresos_mes_2013['total_amt'].copy()\n",
        "ventas_por_año['Month'] = ['Ene', 'Feb', 'Mar', 'Abr', 'May', 'Jun', 'Jul', 'Ago', 'Sep', 'Oct', 'Nov', 'Dic']\n",
        "ventas_por_año"
      ],
      "execution_count": null,
      "outputs": [
        {
          "output_type": "execute_result",
          "data": {
            "text/html": [
              "<div>\n",
              "<style scoped>\n",
              "    .dataframe tbody tr th:only-of-type {\n",
              "        vertical-align: middle;\n",
              "    }\n",
              "\n",
              "    .dataframe tbody tr th {\n",
              "        vertical-align: top;\n",
              "    }\n",
              "\n",
              "    .dataframe thead th {\n",
              "        text-align: right;\n",
              "    }\n",
              "</style>\n",
              "<table border=\"1\" class=\"dataframe\">\n",
              "  <thead>\n",
              "    <tr style=\"text-align: right;\">\n",
              "      <th></th>\n",
              "      <th>total_amt_2011</th>\n",
              "      <th>total_amt_2012</th>\n",
              "      <th>total_amt_2013</th>\n",
              "      <th>Month</th>\n",
              "    </tr>\n",
              "    <tr>\n",
              "      <th>Month</th>\n",
              "      <th></th>\n",
              "      <th></th>\n",
              "      <th></th>\n",
              "      <th></th>\n",
              "    </tr>\n",
              "  </thead>\n",
              "  <tbody>\n",
              "    <tr>\n",
              "      <th>1</th>\n",
              "      <td>337307.880</td>\n",
              "      <td>1207435.710</td>\n",
              "      <td>1378639.990</td>\n",
              "      <td>Ene</td>\n",
              "    </tr>\n",
              "    <tr>\n",
              "      <th>2</th>\n",
              "      <td>1087283.535</td>\n",
              "      <td>1306702.280</td>\n",
              "      <td>1194731.525</td>\n",
              "      <td>Feb</td>\n",
              "    </tr>\n",
              "    <tr>\n",
              "      <th>3</th>\n",
              "      <td>1376537.175</td>\n",
              "      <td>1440357.555</td>\n",
              "      <td>1465626.695</td>\n",
              "      <td>Mar</td>\n",
              "    </tr>\n",
              "    <tr>\n",
              "      <th>4</th>\n",
              "      <td>1379838.915</td>\n",
              "      <td>1212981.705</td>\n",
              "      <td>1276018.640</td>\n",
              "      <td>Abr</td>\n",
              "    </tr>\n",
              "    <tr>\n",
              "      <th>5</th>\n",
              "      <td>1174157.530</td>\n",
              "      <td>1351045.930</td>\n",
              "      <td>1286049.830</td>\n",
              "      <td>May</td>\n",
              "    </tr>\n",
              "    <tr>\n",
              "      <th>6</th>\n",
              "      <td>1221299.040</td>\n",
              "      <td>1295998.145</td>\n",
              "      <td>1254308.705</td>\n",
              "      <td>Jun</td>\n",
              "    </tr>\n",
              "    <tr>\n",
              "      <th>7</th>\n",
              "      <td>1309300.135</td>\n",
              "      <td>1246654.370</td>\n",
              "      <td>1222970.905</td>\n",
              "      <td>Jul</td>\n",
              "    </tr>\n",
              "    <tr>\n",
              "      <th>8</th>\n",
              "      <td>1230637.395</td>\n",
              "      <td>1321288.280</td>\n",
              "      <td>1397714.500</td>\n",
              "      <td>Ago</td>\n",
              "    </tr>\n",
              "    <tr>\n",
              "      <th>9</th>\n",
              "      <td>1437136.480</td>\n",
              "      <td>1317662.775</td>\n",
              "      <td>1337621.285</td>\n",
              "      <td>Sep</td>\n",
              "    </tr>\n",
              "    <tr>\n",
              "      <th>10</th>\n",
              "      <td>1399860.410</td>\n",
              "      <td>1408005.365</td>\n",
              "      <td>1368587.805</td>\n",
              "      <td>Oct</td>\n",
              "    </tr>\n",
              "    <tr>\n",
              "      <th>11</th>\n",
              "      <td>1450866.105</td>\n",
              "      <td>1378302.965</td>\n",
              "      <td>1269408.530</td>\n",
              "      <td>Nov</td>\n",
              "    </tr>\n",
              "    <tr>\n",
              "      <th>12</th>\n",
              "      <td>1327391.195</td>\n",
              "      <td>1417278.525</td>\n",
              "      <td>1257120.930</td>\n",
              "      <td>Dic</td>\n",
              "    </tr>\n",
              "  </tbody>\n",
              "</table>\n",
              "</div>"
            ],
            "text/plain": [
              "       total_amt_2011  total_amt_2012  total_amt_2013 Month\n",
              "Month                                                      \n",
              "1          337307.880     1207435.710     1378639.990   Ene\n",
              "2         1087283.535     1306702.280     1194731.525   Feb\n",
              "3         1376537.175     1440357.555     1465626.695   Mar\n",
              "4         1379838.915     1212981.705     1276018.640   Abr\n",
              "5         1174157.530     1351045.930     1286049.830   May\n",
              "6         1221299.040     1295998.145     1254308.705   Jun\n",
              "7         1309300.135     1246654.370     1222970.905   Jul\n",
              "8         1230637.395     1321288.280     1397714.500   Ago\n",
              "9         1437136.480     1317662.775     1337621.285   Sep\n",
              "10        1399860.410     1408005.365     1368587.805   Oct\n",
              "11        1450866.105     1378302.965     1269408.530   Nov\n",
              "12        1327391.195     1417278.525     1257120.930   Dic"
            ]
          },
          "metadata": {
            "tags": []
          },
          "execution_count": 39
        }
      ]
    },
    {
      "cell_type": "code",
      "metadata": {
        "colab": {
          "base_uri": "https://localhost:8080/",
          "height": 325
        },
        "id": "IR2X7se1Z-ql",
        "outputId": "54cb6905-bde1-4e6f-dd0e-d565ae3d44d2"
      },
      "source": [
        "# Gráfica de ingresos totales vs mes\n",
        "\n",
        "plt.suptitle('Ingresos totales vs Mes')\n",
        "plt.plot(ventas_por_año['Month'], ventas_por_año['total_amt_2011'], 'r', label='2011')\n",
        "plt.plot(ventas_por_año['Month'], ventas_por_año['total_amt_2012'], 'g', label='2012')\n",
        "plt.plot(ventas_por_año['Month'], ventas_por_año['total_amt_2013'], 'b', label='2013')\n",
        "plt.grid(True, ls='-',color='0.5')\n",
        "plt.legend()\n",
        "plt.xlabel('Mes')\n",
        "plt.ylabel('Ingresos totales (en millones de $)')"
      ],
      "execution_count": null,
      "outputs": [
        {
          "output_type": "execute_result",
          "data": {
            "text/plain": [
              "Text(0, 0.5, 'Ingresos totales (en millones de $)')"
            ]
          },
          "metadata": {
            "tags": []
          },
          "execution_count": 49
        },
        {
          "output_type": "display_data",
          "data": {
            "image/png": "[encoded data removed]",
            "text/plain": [
              "<Figure size 432x288 with 1 Axes>"
            ]
          },
          "metadata": {
            "tags": [],
            "needs_background": "light"
          }
        }
      ]
    },
    {
      "cell_type": "markdown",
      "metadata": {
        "id": "1UlbJAsuhU8W"
      },
      "source": [
        "Analizando la gráfica anterior se evidencia una incremento en ventas de enero de 2011 a marzo de 2011. Es decir, en dos meses de operación se llegó al un ingreso total en ventas muy similar al promedio en los años siguientes. "
      ]
    },
    {
      "cell_type": "markdown",
      "metadata": {
        "id": "QnNsU7VGD_eO"
      },
      "source": [
        "##**5. Conclusiones**\n",
        "---\n",
        "\n",
        "De los análisis realizados se presentan las siguientes conclusiones:\n",
        "\n",
        "\n",
        "1.   Función de densidad de edades de hombres y mujeres: A partir de la gráfica anterior se puede ver que ambas funciones de densidad son bastante uniformes. No se visualiza una edad que se repita más de forma relevante. Sin embargo sí se puede ver que en el rango de edades entre 20 y 40 años y entre 45 y 70 años, la probabilidad de que un comprador sea hombre es ligeramente mayor.\n",
        "\n",
        "2.   ¿Cuál es el mes que en promedio genera una mayor cantidad de ventas? Curiosamente, el mes que genera más ventas en promedio (entre los años 2011 y 2013) no es diciembre, es enero. Y el mes que menos ventas genera es julio.\n",
        "\n",
        "3.   ¿Cuál es el medio que en promedio genera una mayor cantidad de ventas? En este apartado se realizó una gráfica de barras para identifica qué categorías de artículos se venden más por los diferentes canales de venta. Los resultados son los siguientes:\n",
        "\n",
        "*   Ropa (Clothing): Se vende más por Teleshop y menos por Flagship stores \n",
        "*   Tecnología (Electronis): Se vende más por Flagship stores y menos por Teleshop.\n",
        "*   Libros (Books): Se vende más por e-shop y menos por Flagship stores.\n",
        "*   Hogar y cocina (hme and kitchen): se vende más por MBR y menos por e-shop.\n",
        "*   Calzado (Footwear): Se vende más por e-shop y menos por MBR.\n",
        "*   Maletas (Bags): Se vende más por Flagship stores y menor por Teleshop.\n",
        "\n",
        "4.   ¿Cuál es la proporción de de hombres que compran elementos de hgar y cocina? Realizando un cálculo sencillo con los datos disponibles se obtuvo un resultado de 18,1%. Tomando este resultado como la proporción de la meustra, se puede generar un intervalo de confianza para conocer la cantidad de hombres que compran elementos de hogar y cocina con respecto a todos los hombres que compran en tiendas retail. Para un 95% de confianza, la proporción mencionada está entre 17,4% y 18,8%.\n",
        "\n",
        "5.   ¿Ha variado la venta de computadores del año 2011 al año 2013? Realizando una prueba de hipótesis de dos colas para los registros de ventas de la subcategoría computadores entre los años 2011 y 2013, se puede concluir que no hay evidencia suficiente para rechazar la hipótesis nula (Ho: Las ventas totales de computadores no ha variado entre los años 2011 y 2013) en favor de la hipótsis alterna.\n",
        "\n",
        "6.   ¿Hay alguna correlación entre las ventas de artículos de la subcategoría \"Audio y video\" y los artículos de Mobiliario? El análisis de correlación realizado sugiere un coeficiente de correlación de 0.028, el cual es prácticamente cero, por lo que se puede concluir que no existe correlación entre la ventas de los artículos de audio y video y mobiliario. Quizá esta pueda ser una oportunidad para generar nuevas estrategias de marketing ya que existe una alta concentración de días donde se venden artículos de audio y video y mobiliario por valor de aproximadamente $2000.\n",
        "\n",
        "7.   ¿Cuál es la ciudad en la que menos ingresos en promedio se generan en ls tiendas insignia (flagship store) y este promedio es significativamente menor que el promedio de las flagship store en las demás ciudades? La ciudad en la que menos ingresos se presenta es en la ciudad con el código 1.0, haciendo una prueba de hipótesis no se encuentra evidencia suficiente para rechazar la hipótesis nula (Ho: No hay diferencias entre el promedio de ingresos por flagship store de la ciudad con el código 1.0 y el promedio de ingresos por flagship store en las demás ciudaddes) en favor de la hipótesis alterna. Sí este análisis hubiera arrojado que se rechaza la hipótesis nula en favor de la alterna, es probable que fuera necesario evaluar la situación de la flagship store para ver si se aumenta la publicidad en esta ciudad o si es necesario cerrarla debido a que los costos de la flagship stores son mayores que los ingresos.\n",
        "\n",
        "8.  Analizando la gráfica anterior se evidencia una incremento en ventas de enero de 2011 a marzo de 2011. Es decir, en dos meses de operación se llegó al un ingreso total en ventas muy similar al promedio en los años siguientes. Lo anterior no es necesariamente bueno, ya se observa un claro estancamiento del crecimiento acelerado que se tuvo en los dos primeros meses iniciales. La ventaja es que después de marzo de 2011 hasta diciembre de 2013 estabilizaron las ventas (o se estancaron, depende qué se quiera analizar). Lo que sí puede ser necesario es hacer un cambio en la visión de la empresa apuntando a generar un incremento total en los ingresos de una forma no tan acelerada ya que es poco probable que un crecimiento acelerado no sea sostenible en el largo plazo (como se vio en los dos primeros meses de operación).\n",
        "\n",
        "\n",
        "\n",
        "\n",
        "\n",
        "\n"
      ]
    },
    {
      "cell_type": "markdown",
      "metadata": {
        "id": "459_G8diRWo-"
      },
      "source": [
        "##**6. Referencias**\n",
        "---\n",
        "Enlace donde se puede encontrar el conjuto de datos utilizado para el desarrollo de este notebook.\n",
        "\n",
        "\n",
        "https://www.kaggle.com/darpan25bajaj/retail-case-study-data"
      ]
    }
  ]
}